{
 "cells": [
  {
   "cell_type": "code",
   "execution_count": 1,
   "metadata": {},
   "outputs": [],
   "source": [
    "# Cargo los datos\n",
    "import pandas as pd\n",
    "\n",
    "df_train = pd.read_csv('data/train_timeseries_interpolated.csv')\n",
    "df_val = pd.read_csv('data/val_timeseries_interpolated.csv')\n",
    "df_test = pd.read_csv('data/test_timeseries_interpolated.csv')\n"
   ]
  },
  {
   "cell_type": "code",
   "execution_count": 2,
   "metadata": {},
   "outputs": [],
   "source": [
    "df_soil = pd.read_csv('data/soil_data.csv')\n",
    "# Merge de los datos de suelo\n",
    "df_train = df_train.merge(df_soil, on='fips', how='left')\n",
    "df_val = df_val.merge(df_soil, on='fips', how='left')\n",
    "df_test = df_test.merge(df_soil, on='fips', how='left')"
   ]
  },
  {
   "cell_type": "code",
   "execution_count": 5,
   "metadata": {},
   "outputs": [
    {
     "data": {
      "text/plain": [
       "Index(['fips', 'date', 'PRECTOT', 'PS', 'QV2M', 'T2M', 'T2MDEW', 'T2MWET',\n",
       "       'T2M_MAX', 'T2M_MIN', 'T2M_RANGE', 'TS', 'WS10M', 'WS10M_MAX',\n",
       "       'WS10M_MIN', 'WS10M_RANGE', 'WS50M', 'WS50M_MAX', 'WS50M_MIN',\n",
       "       'WS50M_RANGE', 'score', 'score_interpolated',\n",
       "       'score_final_interpolated', 'lat', 'lon', 'elevation', 'slope1',\n",
       "       'slope2', 'slope3', 'slope4', 'slope5', 'slope6', 'slope7', 'slope8',\n",
       "       'aspectN', 'aspectE', 'aspectS', 'aspectW', 'aspectUnknown', 'WAT_LAND',\n",
       "       'NVG_LAND', 'URB_LAND', 'GRS_LAND', 'FOR_LAND', 'CULTRF_LAND',\n",
       "       'CULTIR_LAND', 'CULT_LAND', 'SQ1', 'SQ2', 'SQ3', 'SQ4', 'SQ5', 'SQ6',\n",
       "       'SQ7'],\n",
       "      dtype='object')"
      ]
     },
     "execution_count": 5,
     "metadata": {},
     "output_type": "execute_result"
    }
   ],
   "source": [
    "df_train.columns"
   ]
  },
  {
   "cell_type": "code",
   "execution_count": 8,
   "metadata": {},
   "outputs": [
    {
     "name": "stdout",
     "output_type": "stream",
     "text": [
      "Tamaño de los clusters:\n",
      "cluster\n",
      "0    1758116\n",
      "1    1411216\n",
      "2    1441552\n",
      "3     935888\n",
      "4     131544\n",
      "Name: count, dtype: int64\n",
      "\n",
      "Centroides de los clusters:\n",
      "Cluster 0: [ 3.22405895e+00  9.89716984e+01  1.01971707e+01  1.75728868e+01\n",
      "  1.25563623e+01  1.25641791e+01  2.35170442e+01  1.21323868e+01\n",
      "  1.13846638e+01  1.75803673e+01  2.33620614e+00  3.36941570e+00\n",
      "  1.31402227e+00  2.05539673e+00  4.22253045e+00  6.07422371e+00\n",
      "  2.31306145e+00  3.76115576e+00  8.37033065e-01  6.26548490e-01\n",
      "  6.22222020e-01  3.65378760e+01 -8.59285545e+01  2.22935636e+02\n",
      "  1.94394765e-02  1.95956870e-01  4.10016152e-01  2.51787579e-01\n",
      "  6.81292895e-02  4.64429365e-02  5.24130535e-03  5.53338524e-04\n",
      "  1.76943143e-01  2.08166006e-01  1.91958734e-01  2.05102718e-01\n",
      "  2.15396346e-01  1.45194406e+00  4.16869557e-01  3.83856680e+00\n",
      "  1.14971009e+01  6.11618588e+01  2.03052854e+01  1.01507707e+00\n",
      "  2.13203625e+01  2.37477044e+00  1.79449702e+00  1.10717322e+00\n",
      "  1.15528706e+00  1.00776057e+00  1.00629661e+00  1.10081177e+00]\n",
      "Cluster 1: [ 3.20340300e+00  9.79757839e+01  1.12433779e+01  2.11004425e+01\n",
      "  1.43696155e+01  1.43758245e+01  2.69572654e+01  1.55714150e+01\n",
      "  1.13858451e+01  2.14928096e+01  3.83151234e+00  5.53817436e+00\n",
      "  2.13073647e+00  3.40743613e+00  5.70358206e+00  8.03933942e+00\n",
      "  3.32573801e+00  4.71360352e+00  8.88838528e-01  9.90228317e-01\n",
      "  9.87481157e-01  3.65509409e+01 -9.24806429e+01  2.95457346e+02\n",
      "  1.22100815e-01  5.03309716e-01  2.96103292e-01  4.86941339e-02\n",
      "  4.69127731e-03  1.74284162e-03  1.86384192e-04  4.66753661e-05\n",
      "  7.96099787e-02  1.00005405e-01  7.86036150e-02  9.32456055e-02\n",
      "  6.25410531e-01  1.87535614e+00  2.26862981e+00  2.34131311e+00\n",
      "  2.31563320e+01  1.84412161e+01  4.03119427e+01  7.33798752e+00\n",
      "  4.76499302e+01  1.32818825e+00  1.20448033e+00  1.04527132e+00\n",
      "  1.47264101e+00  9.86055874e-01  9.74647237e-01  1.10178702e+00]\n",
      "Cluster 2: [ 1.77206439e+00  9.59197342e+01  3.76179371e+00  2.97568358e+00\n",
      " -2.57444295e+00 -2.47613616e+00  8.73093634e+00 -2.24596606e+00\n",
      "  1.09768987e+01  3.02700841e+00  5.28605758e+00  7.79251116e+00\n",
      "  2.73804625e+00  5.05446162e+00  7.54272345e+00  1.05241043e+01\n",
      "  4.29393550e+00  6.23016773e+00  8.92580545e-01  1.02853302e+00\n",
      "  1.02470713e+00  4.06064722e+01 -9.42759482e+01  4.84619495e+02\n",
      "  6.71836160e-02  3.97869124e-01  3.72359414e-01  1.23521127e-01\n",
      "  1.98551389e-02  8.84899381e-03  8.91959883e-04  1.80883359e-04\n",
      "  1.21167564e-01  1.47495801e-01  1.18312986e-01  1.38681166e-01\n",
      "  4.65052740e-01  1.20478855e+00  1.96282757e+00  2.49598977e+00\n",
      "  2.63046526e+01  1.77960298e+01  4.43420015e+01  4.38913958e+00\n",
      "  4.87311410e+01  1.23155358e+00  1.13980871e+00  1.07119443e+00\n",
      "  1.20490439e+00  1.01595816e+00  9.93292273e-01  1.05695361e+00]\n",
      "Cluster 3: [ 2.11304181e+00  9.13485601e+01  5.40133682e+00  7.73048886e+00\n",
      "  1.43931825e+00  1.49146732e+00  1.37535728e+01  2.33634192e+00\n",
      "  1.14172255e+01  7.50787630e+00  2.58628348e+00  3.88355413e+00\n",
      "  1.33439698e+00  2.54914232e+00  4.39826943e+00  6.36208796e+00\n",
      "  2.35895638e+00  4.00313019e+00  8.85090535e-01  9.63978802e-01\n",
      "  9.60006592e-01  4.02139573e+01 -9.77862628e+01  9.49804678e+02\n",
      "  4.55515205e-03  4.50187673e-02  1.29235102e-01  1.99733576e-01\n",
      "  1.56442576e-01  2.90657846e-01  1.21695714e-01  5.20150363e-02\n",
      "  2.24922606e-01  2.44290052e-01  2.28193581e-01  2.52373611e-01\n",
      "  4.95739193e-02  3.41369910e-01  3.59199251e+00  1.09056091e+00\n",
      "  2.24074710e+01  6.60366835e+01  4.98740936e+00  1.36289969e+00\n",
      "  6.35030902e+00  1.76945411e+00  1.50641050e+00  1.49405503e+00\n",
      "  1.01072448e+00  1.03659766e+00  1.01922509e+00  1.46017247e+00]\n",
      "Cluster 4: [ 2.60612213e+00  9.81473144e+01  7.39919867e+00  1.07369684e+01\n",
      "  6.46311424e+00  6.48792206e+00  1.44879123e+01  7.16380519e+00\n",
      "  7.32410251e+00  1.10653037e+01  4.42335720e+00  6.27175424e+00\n",
      "  2.56201773e+00  3.70973621e+00  6.08505466e+00  8.57966460e+00\n",
      "  3.56656822e+00  5.01309235e+00  8.17144169e-01  4.91267178e-01\n",
      "  4.88650185e-01  4.08184314e+01 -8.70796582e+01  2.36888889e+02\n",
      "  3.40583333e-02  1.50615278e-01  1.50080556e-01  6.76652778e-02\n",
      "  1.62791667e-02  1.95583333e-02  1.33180556e-02  2.07916667e-02\n",
      "  5.94777778e-02  8.10055556e-02  7.75972222e-02  6.96125000e-02\n",
      "  1.84673611e-01  6.79146622e+01  7.01743321e-01  3.74443112e+00\n",
      "  4.46608533e+00  1.72138549e+01  4.76660417e+00  1.19261894e+00\n",
      "  5.95922315e+00  6.95833333e+00  6.95833333e+00  6.95833333e+00\n",
      "  6.95833333e+00  6.95833333e+00  6.95833333e+00  6.95833333e+00]\n"
     ]
    },
    {
     "ename": "KeyError",
     "evalue": "'distancia_al_centroide'",
     "output_type": "error",
     "traceback": [
      "\u001b[1;31m---------------------------------------------------------------------------\u001b[0m",
      "\u001b[1;31mKeyError\u001b[0m                                  Traceback (most recent call last)",
      "File \u001b[1;32mc:\\Users\\jfran\\OneDrive\\Documentos\\MCD\\tp_final_fundamentos\\myenv\\Lib\\site-packages\\pandas\\core\\indexes\\base.py:3791\u001b[0m, in \u001b[0;36mIndex.get_loc\u001b[1;34m(self, key)\u001b[0m\n\u001b[0;32m   3790\u001b[0m \u001b[38;5;28;01mtry\u001b[39;00m:\n\u001b[1;32m-> 3791\u001b[0m     \u001b[38;5;28;01mreturn\u001b[39;00m \u001b[38;5;28;43mself\u001b[39;49m\u001b[38;5;241;43m.\u001b[39;49m\u001b[43m_engine\u001b[49m\u001b[38;5;241;43m.\u001b[39;49m\u001b[43mget_loc\u001b[49m\u001b[43m(\u001b[49m\u001b[43mcasted_key\u001b[49m\u001b[43m)\u001b[49m\n\u001b[0;32m   3792\u001b[0m \u001b[38;5;28;01mexcept\u001b[39;00m \u001b[38;5;167;01mKeyError\u001b[39;00m \u001b[38;5;28;01mas\u001b[39;00m err:\n",
      "File \u001b[1;32mindex.pyx:152\u001b[0m, in \u001b[0;36mpandas._libs.index.IndexEngine.get_loc\u001b[1;34m()\u001b[0m\n",
      "File \u001b[1;32mindex.pyx:181\u001b[0m, in \u001b[0;36mpandas._libs.index.IndexEngine.get_loc\u001b[1;34m()\u001b[0m\n",
      "File \u001b[1;32mpandas\\_libs\\hashtable_class_helper.pxi:7080\u001b[0m, in \u001b[0;36mpandas._libs.hashtable.PyObjectHashTable.get_item\u001b[1;34m()\u001b[0m\n",
      "File \u001b[1;32mpandas\\_libs\\hashtable_class_helper.pxi:7088\u001b[0m, in \u001b[0;36mpandas._libs.hashtable.PyObjectHashTable.get_item\u001b[1;34m()\u001b[0m\n",
      "\u001b[1;31mKeyError\u001b[0m: 'distancia_al_centroide'",
      "\nThe above exception was the direct cause of the following exception:\n",
      "\u001b[1;31mKeyError\u001b[0m                                  Traceback (most recent call last)",
      "Cell \u001b[1;32mIn[8], line 42\u001b[0m\n\u001b[0;32m     39\u001b[0m     \u001b[38;5;28mprint\u001b[39m(\u001b[38;5;124mf\u001b[39m\u001b[38;5;124m\"\u001b[39m\u001b[38;5;124mCluster \u001b[39m\u001b[38;5;132;01m{\u001b[39;00mi\u001b[38;5;132;01m}\u001b[39;00m\u001b[38;5;124m: \u001b[39m\u001b[38;5;132;01m{\u001b[39;00mcentroid\u001b[38;5;132;01m}\u001b[39;00m\u001b[38;5;124m\"\u001b[39m)\n\u001b[0;32m     41\u001b[0m \u001b[38;5;66;03m# Seleccionar un FIPS representativo por cluster\u001b[39;00m\n\u001b[1;32m---> 42\u001b[0m representative_fips \u001b[38;5;241m=\u001b[39m \u001b[43mdf_train\u001b[49m\u001b[38;5;241;43m.\u001b[39;49m\u001b[43mgroupby\u001b[49m\u001b[43m(\u001b[49m\u001b[38;5;124;43m'\u001b[39;49m\u001b[38;5;124;43mcluster\u001b[39;49m\u001b[38;5;124;43m'\u001b[39;49m\u001b[43m)\u001b[49m\u001b[38;5;241;43m.\u001b[39;49m\u001b[43mapply\u001b[49m\u001b[43m(\u001b[49m\n\u001b[0;32m     43\u001b[0m \u001b[43m    \u001b[49m\u001b[38;5;28;43;01mlambda\u001b[39;49;00m\u001b[43m \u001b[49m\u001b[43mx\u001b[49m\u001b[43m:\u001b[49m\u001b[43m \u001b[49m\u001b[43mx\u001b[49m\u001b[38;5;241;43m.\u001b[39;49m\u001b[43mloc\u001b[49m\u001b[43m[\u001b[49m\u001b[43mx\u001b[49m\u001b[43m[\u001b[49m\u001b[38;5;124;43m'\u001b[39;49m\u001b[38;5;124;43mdistancia_al_centroide\u001b[39;49m\u001b[38;5;124;43m'\u001b[39;49m\u001b[43m]\u001b[49m\u001b[38;5;241;43m.\u001b[39;49m\u001b[43midxmin\u001b[49m\u001b[43m(\u001b[49m\u001b[43m)\u001b[49m\u001b[43m,\u001b[49m\u001b[43m \u001b[49m\u001b[38;5;124;43m'\u001b[39;49m\u001b[38;5;124;43mfips\u001b[39;49m\u001b[38;5;124;43m'\u001b[39;49m\u001b[43m]\u001b[49m\n\u001b[0;32m     44\u001b[0m \u001b[43m)\u001b[49m\u001b[38;5;241m.\u001b[39mreset_index(name\u001b[38;5;241m=\u001b[39m\u001b[38;5;124m'\u001b[39m\u001b[38;5;124mfips_representativo\u001b[39m\u001b[38;5;124m'\u001b[39m)\n\u001b[0;32m     46\u001b[0m \u001b[38;5;28mprint\u001b[39m(\u001b[38;5;124m\"\u001b[39m\u001b[38;5;130;01m\\n\u001b[39;00m\u001b[38;5;124mFIPS representativos por cluster:\u001b[39m\u001b[38;5;124m\"\u001b[39m)\n\u001b[0;32m     47\u001b[0m \u001b[38;5;28mprint\u001b[39m(representative_fips)\n",
      "File \u001b[1;32mc:\\Users\\jfran\\OneDrive\\Documentos\\MCD\\tp_final_fundamentos\\myenv\\Lib\\site-packages\\pandas\\core\\groupby\\groupby.py:1770\u001b[0m, in \u001b[0;36mGroupBy.apply\u001b[1;34m(self, func, *args, **kwargs)\u001b[0m\n\u001b[0;32m   1768\u001b[0m \u001b[38;5;28;01mwith\u001b[39;00m option_context(\u001b[38;5;124m\"\u001b[39m\u001b[38;5;124mmode.chained_assignment\u001b[39m\u001b[38;5;124m\"\u001b[39m, \u001b[38;5;28;01mNone\u001b[39;00m):\n\u001b[0;32m   1769\u001b[0m     \u001b[38;5;28;01mtry\u001b[39;00m:\n\u001b[1;32m-> 1770\u001b[0m         result \u001b[38;5;241m=\u001b[39m \u001b[38;5;28;43mself\u001b[39;49m\u001b[38;5;241;43m.\u001b[39;49m\u001b[43m_python_apply_general\u001b[49m\u001b[43m(\u001b[49m\u001b[43mf\u001b[49m\u001b[43m,\u001b[49m\u001b[43m \u001b[49m\u001b[38;5;28;43mself\u001b[39;49m\u001b[38;5;241;43m.\u001b[39;49m\u001b[43m_selected_obj\u001b[49m\u001b[43m)\u001b[49m\n\u001b[0;32m   1771\u001b[0m     \u001b[38;5;28;01mexcept\u001b[39;00m \u001b[38;5;167;01mTypeError\u001b[39;00m:\n\u001b[0;32m   1772\u001b[0m         \u001b[38;5;66;03m# gh-20949\u001b[39;00m\n\u001b[0;32m   1773\u001b[0m         \u001b[38;5;66;03m# try again, with .apply acting as a filtering\u001b[39;00m\n\u001b[1;32m   (...)\u001b[0m\n\u001b[0;32m   1777\u001b[0m         \u001b[38;5;66;03m# fails on *some* columns, e.g. a numeric operation\u001b[39;00m\n\u001b[0;32m   1778\u001b[0m         \u001b[38;5;66;03m# on a string grouper column\u001b[39;00m\n\u001b[0;32m   1780\u001b[0m         \u001b[38;5;28;01mreturn\u001b[39;00m \u001b[38;5;28mself\u001b[39m\u001b[38;5;241m.\u001b[39m_python_apply_general(f, \u001b[38;5;28mself\u001b[39m\u001b[38;5;241m.\u001b[39m_obj_with_exclusions)\n",
      "File \u001b[1;32mc:\\Users\\jfran\\OneDrive\\Documentos\\MCD\\tp_final_fundamentos\\myenv\\Lib\\site-packages\\pandas\\core\\groupby\\groupby.py:1819\u001b[0m, in \u001b[0;36mGroupBy._python_apply_general\u001b[1;34m(self, f, data, not_indexed_same, is_transform, is_agg)\u001b[0m\n\u001b[0;32m   1784\u001b[0m \u001b[38;5;129m@final\u001b[39m\n\u001b[0;32m   1785\u001b[0m \u001b[38;5;28;01mdef\u001b[39;00m \u001b[38;5;21m_python_apply_general\u001b[39m(\n\u001b[0;32m   1786\u001b[0m     \u001b[38;5;28mself\u001b[39m,\n\u001b[1;32m   (...)\u001b[0m\n\u001b[0;32m   1791\u001b[0m     is_agg: \u001b[38;5;28mbool\u001b[39m \u001b[38;5;241m=\u001b[39m \u001b[38;5;28;01mFalse\u001b[39;00m,\n\u001b[0;32m   1792\u001b[0m ) \u001b[38;5;241m-\u001b[39m\u001b[38;5;241m>\u001b[39m NDFrameT:\n\u001b[0;32m   1793\u001b[0m \u001b[38;5;250m    \u001b[39m\u001b[38;5;124;03m\"\"\"\u001b[39;00m\n\u001b[0;32m   1794\u001b[0m \u001b[38;5;124;03m    Apply function f in python space\u001b[39;00m\n\u001b[0;32m   1795\u001b[0m \n\u001b[1;32m   (...)\u001b[0m\n\u001b[0;32m   1817\u001b[0m \u001b[38;5;124;03m        data after applying f\u001b[39;00m\n\u001b[0;32m   1818\u001b[0m \u001b[38;5;124;03m    \"\"\"\u001b[39;00m\n\u001b[1;32m-> 1819\u001b[0m     values, mutated \u001b[38;5;241m=\u001b[39m \u001b[38;5;28;43mself\u001b[39;49m\u001b[38;5;241;43m.\u001b[39;49m\u001b[43mgrouper\u001b[49m\u001b[38;5;241;43m.\u001b[39;49m\u001b[43mapply_groupwise\u001b[49m\u001b[43m(\u001b[49m\u001b[43mf\u001b[49m\u001b[43m,\u001b[49m\u001b[43m \u001b[49m\u001b[43mdata\u001b[49m\u001b[43m,\u001b[49m\u001b[43m \u001b[49m\u001b[38;5;28;43mself\u001b[39;49m\u001b[38;5;241;43m.\u001b[39;49m\u001b[43maxis\u001b[49m\u001b[43m)\u001b[49m\n\u001b[0;32m   1820\u001b[0m     \u001b[38;5;28;01mif\u001b[39;00m not_indexed_same \u001b[38;5;129;01mis\u001b[39;00m \u001b[38;5;28;01mNone\u001b[39;00m:\n\u001b[0;32m   1821\u001b[0m         not_indexed_same \u001b[38;5;241m=\u001b[39m mutated\n",
      "File \u001b[1;32mc:\\Users\\jfran\\OneDrive\\Documentos\\MCD\\tp_final_fundamentos\\myenv\\Lib\\site-packages\\pandas\\core\\groupby\\ops.py:911\u001b[0m, in \u001b[0;36mBaseGrouper.apply_groupwise\u001b[1;34m(self, f, data, axis)\u001b[0m\n\u001b[0;32m    909\u001b[0m \u001b[38;5;66;03m# group might be modified\u001b[39;00m\n\u001b[0;32m    910\u001b[0m group_axes \u001b[38;5;241m=\u001b[39m group\u001b[38;5;241m.\u001b[39maxes\n\u001b[1;32m--> 911\u001b[0m res \u001b[38;5;241m=\u001b[39m \u001b[43mf\u001b[49m\u001b[43m(\u001b[49m\u001b[43mgroup\u001b[49m\u001b[43m)\u001b[49m\n\u001b[0;32m    912\u001b[0m \u001b[38;5;28;01mif\u001b[39;00m \u001b[38;5;129;01mnot\u001b[39;00m mutated \u001b[38;5;129;01mand\u001b[39;00m \u001b[38;5;129;01mnot\u001b[39;00m _is_indexed_like(res, group_axes, axis):\n\u001b[0;32m    913\u001b[0m     mutated \u001b[38;5;241m=\u001b[39m \u001b[38;5;28;01mTrue\u001b[39;00m\n",
      "Cell \u001b[1;32mIn[8], line 43\u001b[0m, in \u001b[0;36m<lambda>\u001b[1;34m(x)\u001b[0m\n\u001b[0;32m     39\u001b[0m     \u001b[38;5;28mprint\u001b[39m(\u001b[38;5;124mf\u001b[39m\u001b[38;5;124m\"\u001b[39m\u001b[38;5;124mCluster \u001b[39m\u001b[38;5;132;01m{\u001b[39;00mi\u001b[38;5;132;01m}\u001b[39;00m\u001b[38;5;124m: \u001b[39m\u001b[38;5;132;01m{\u001b[39;00mcentroid\u001b[38;5;132;01m}\u001b[39;00m\u001b[38;5;124m\"\u001b[39m)\n\u001b[0;32m     41\u001b[0m \u001b[38;5;66;03m# Seleccionar un FIPS representativo por cluster\u001b[39;00m\n\u001b[0;32m     42\u001b[0m representative_fips \u001b[38;5;241m=\u001b[39m df_train\u001b[38;5;241m.\u001b[39mgroupby(\u001b[38;5;124m'\u001b[39m\u001b[38;5;124mcluster\u001b[39m\u001b[38;5;124m'\u001b[39m)\u001b[38;5;241m.\u001b[39mapply(\n\u001b[1;32m---> 43\u001b[0m     \u001b[38;5;28;01mlambda\u001b[39;00m x: x\u001b[38;5;241m.\u001b[39mloc[\u001b[43mx\u001b[49m\u001b[43m[\u001b[49m\u001b[38;5;124;43m'\u001b[39;49m\u001b[38;5;124;43mdistancia_al_centroide\u001b[39;49m\u001b[38;5;124;43m'\u001b[39;49m\u001b[43m]\u001b[49m\u001b[38;5;241m.\u001b[39midxmin(), \u001b[38;5;124m'\u001b[39m\u001b[38;5;124mfips\u001b[39m\u001b[38;5;124m'\u001b[39m]\n\u001b[0;32m     44\u001b[0m )\u001b[38;5;241m.\u001b[39mreset_index(name\u001b[38;5;241m=\u001b[39m\u001b[38;5;124m'\u001b[39m\u001b[38;5;124mfips_representativo\u001b[39m\u001b[38;5;124m'\u001b[39m)\n\u001b[0;32m     46\u001b[0m \u001b[38;5;28mprint\u001b[39m(\u001b[38;5;124m\"\u001b[39m\u001b[38;5;130;01m\\n\u001b[39;00m\u001b[38;5;124mFIPS representativos por cluster:\u001b[39m\u001b[38;5;124m\"\u001b[39m)\n\u001b[0;32m     47\u001b[0m \u001b[38;5;28mprint\u001b[39m(representative_fips)\n",
      "File \u001b[1;32mc:\\Users\\jfran\\OneDrive\\Documentos\\MCD\\tp_final_fundamentos\\myenv\\Lib\\site-packages\\pandas\\core\\frame.py:3893\u001b[0m, in \u001b[0;36mDataFrame.__getitem__\u001b[1;34m(self, key)\u001b[0m\n\u001b[0;32m   3891\u001b[0m \u001b[38;5;28;01mif\u001b[39;00m \u001b[38;5;28mself\u001b[39m\u001b[38;5;241m.\u001b[39mcolumns\u001b[38;5;241m.\u001b[39mnlevels \u001b[38;5;241m>\u001b[39m \u001b[38;5;241m1\u001b[39m:\n\u001b[0;32m   3892\u001b[0m     \u001b[38;5;28;01mreturn\u001b[39;00m \u001b[38;5;28mself\u001b[39m\u001b[38;5;241m.\u001b[39m_getitem_multilevel(key)\n\u001b[1;32m-> 3893\u001b[0m indexer \u001b[38;5;241m=\u001b[39m \u001b[38;5;28;43mself\u001b[39;49m\u001b[38;5;241;43m.\u001b[39;49m\u001b[43mcolumns\u001b[49m\u001b[38;5;241;43m.\u001b[39;49m\u001b[43mget_loc\u001b[49m\u001b[43m(\u001b[49m\u001b[43mkey\u001b[49m\u001b[43m)\u001b[49m\n\u001b[0;32m   3894\u001b[0m \u001b[38;5;28;01mif\u001b[39;00m is_integer(indexer):\n\u001b[0;32m   3895\u001b[0m     indexer \u001b[38;5;241m=\u001b[39m [indexer]\n",
      "File \u001b[1;32mc:\\Users\\jfran\\OneDrive\\Documentos\\MCD\\tp_final_fundamentos\\myenv\\Lib\\site-packages\\pandas\\core\\indexes\\base.py:3798\u001b[0m, in \u001b[0;36mIndex.get_loc\u001b[1;34m(self, key)\u001b[0m\n\u001b[0;32m   3793\u001b[0m     \u001b[38;5;28;01mif\u001b[39;00m \u001b[38;5;28misinstance\u001b[39m(casted_key, \u001b[38;5;28mslice\u001b[39m) \u001b[38;5;129;01mor\u001b[39;00m (\n\u001b[0;32m   3794\u001b[0m         \u001b[38;5;28misinstance\u001b[39m(casted_key, abc\u001b[38;5;241m.\u001b[39mIterable)\n\u001b[0;32m   3795\u001b[0m         \u001b[38;5;129;01mand\u001b[39;00m \u001b[38;5;28many\u001b[39m(\u001b[38;5;28misinstance\u001b[39m(x, \u001b[38;5;28mslice\u001b[39m) \u001b[38;5;28;01mfor\u001b[39;00m x \u001b[38;5;129;01min\u001b[39;00m casted_key)\n\u001b[0;32m   3796\u001b[0m     ):\n\u001b[0;32m   3797\u001b[0m         \u001b[38;5;28;01mraise\u001b[39;00m InvalidIndexError(key)\n\u001b[1;32m-> 3798\u001b[0m     \u001b[38;5;28;01mraise\u001b[39;00m \u001b[38;5;167;01mKeyError\u001b[39;00m(key) \u001b[38;5;28;01mfrom\u001b[39;00m \u001b[38;5;21;01merr\u001b[39;00m\n\u001b[0;32m   3799\u001b[0m \u001b[38;5;28;01mexcept\u001b[39;00m \u001b[38;5;167;01mTypeError\u001b[39;00m:\n\u001b[0;32m   3800\u001b[0m     \u001b[38;5;66;03m# If we have a listlike key, _check_indexing_error will raise\u001b[39;00m\n\u001b[0;32m   3801\u001b[0m     \u001b[38;5;66;03m#  InvalidIndexError. Otherwise we fall through and re-raise\u001b[39;00m\n\u001b[0;32m   3802\u001b[0m     \u001b[38;5;66;03m#  the TypeError.\u001b[39;00m\n\u001b[0;32m   3803\u001b[0m     \u001b[38;5;28mself\u001b[39m\u001b[38;5;241m.\u001b[39m_check_indexing_error(key)\n",
      "\u001b[1;31mKeyError\u001b[0m: 'distancia_al_centroide'"
     ]
    }
   ],
   "source": [
    "import pandas as pd\n",
    "import numpy as np\n",
    "from sklearn.cluster import KMeans\n",
    "from sklearn.preprocessing import StandardScaler\n",
    "\n",
    "# Preparar los datos para la clusterización\n",
    "X = df_train[['PRECTOT', 'PS', 'QV2M', 'T2M', 'T2MDEW', 'T2MWET',\n",
    "       'T2M_MAX', 'T2M_MIN', 'T2M_RANGE', 'TS', 'WS10M', 'WS10M_MAX',\n",
    "       'WS10M_MIN', 'WS10M_RANGE', 'WS50M', 'WS50M_MAX', 'WS50M_MIN',\n",
    "       'WS50M_RANGE', 'score', 'score_interpolated',\n",
    "       'score_final_interpolated', 'lat', 'lon', 'elevation', 'slope1',\n",
    "       'slope2', 'slope3', 'slope4', 'slope5', 'slope6', 'slope7', 'slope8',\n",
    "       'aspectN', 'aspectE', 'aspectS', 'aspectW', 'aspectUnknown', 'WAT_LAND',\n",
    "       'NVG_LAND', 'URB_LAND', 'GRS_LAND', 'FOR_LAND', 'CULTRF_LAND',\n",
    "       'CULTIR_LAND', 'CULT_LAND', 'SQ1', 'SQ2', 'SQ3', 'SQ4', 'SQ5', 'SQ6',\n",
    "       'SQ7']].copy()\n",
    "\n",
    "# Normalizar las características\n",
    "scaler = StandardScaler()\n",
    "X_scaled = scaler.fit_transform(X)\n",
    "\n",
    "# Aplicar K-means\n",
    "# Puedes ajustar el número de clusters según tus necesidades\n",
    "n_clusters = 5\n",
    "kmeans = KMeans(n_clusters=n_clusters, random_state=42)\n",
    "# Manejo los valores nan\n",
    "X_scaled = np.nan_to_num(X_scaled)\n",
    "df_train['cluster'] = kmeans.fit_predict(X_scaled)\n",
    "\n",
    "# Analizar los resultados\n",
    "cluster_centroids = scaler.inverse_transform(kmeans.cluster_centers_)\n",
    "cluster_sizes = df_train['cluster'].value_counts().sort_index()\n",
    "\n",
    "print(\"Tamaño de los clusters:\")\n",
    "print(cluster_sizes)\n",
    "\n",
    "print(\"\\nCentroides de los clusters:\")\n",
    "for i, centroid in enumerate(cluster_centroids):\n",
    "    print(f\"Cluster {i}: {centroid}\")\n",
    "\n",
    "# Seleccionar un FIPS representativo por cluster\n",
    "representative_fips = df_train.groupby('cluster').apply(\n",
    "    lambda x: x.loc[x['distancia_al_centroide'].idxmin(), 'fips']\n",
    ").reset_index(name='fips_representativo')\n",
    "\n",
    "print(\"\\nFIPS representativos por cluster:\")\n",
    "print(representative_fips)\n",
    "\n",
    "# # Guardar los resultados\n",
    "# df.to_csv('dataset_clusterizado.csv', index=False)\n",
    "# representative_fips.to_csv('fips_representativos.csv', index=False)"
   ]
  },
  {
   "cell_type": "code",
   "execution_count": 12,
   "metadata": {},
   "outputs": [],
   "source": [
    "df_train_clusters=df_train[['fips', 'cluster']].value_counts().sort_index()"
   ]
  },
  {
   "cell_type": "code",
   "execution_count": 15,
   "metadata": {},
   "outputs": [
    {
     "data": {
      "text/plain": [
       "fips   cluster\n",
       "1001   0          1681\n",
       "       1            34\n",
       "       2           112\n",
       "1003   0           126\n",
       "       1          1620\n",
       "                  ... \n",
       "56039  3          1827\n",
       "56041  2           354\n",
       "       3          1473\n",
       "56043  2           133\n",
       "       3          1694\n",
       "Name: count, Length: 7685, dtype: int64"
      ]
     },
     "execution_count": 15,
     "metadata": {},
     "output_type": "execute_result"
    }
   ],
   "source": [
    "df_train_clusters"
   ]
  },
  {
   "cell_type": "code",
   "execution_count": 18,
   "metadata": {},
   "outputs": [
    {
     "data": {
      "text/plain": [
       "fips\n",
       "1001     1681\n",
       "1003      126\n",
       "1005     1785\n",
       "1007     1825\n",
       "1009     1727\n",
       "         ... \n",
       "56035     736\n",
       "56037     218\n",
       "56039    1827\n",
       "56041     354\n",
       "56043     133\n",
       "Name: count, Length: 3108, dtype: int64"
      ]
     },
     "execution_count": 18,
     "metadata": {},
     "output_type": "execute_result"
    }
   ],
   "source": [
    "df_train_clusters.groupby('fips').first()"
   ]
  },
  {
   "cell_type": "code",
   "execution_count": 21,
   "metadata": {},
   "outputs": [
    {
     "data": {
      "text/plain": [
       "cluster  fips \n",
       "0        1001     1681\n",
       "         1003      126\n",
       "         1005     1785\n",
       "         1007     1825\n",
       "         1009     1727\n",
       "                  ... \n",
       "4        55071    1827\n",
       "         55079    1827\n",
       "         55089    1827\n",
       "         55101    1827\n",
       "         55117    1827\n",
       "Name: count, Length: 7685, dtype: int64"
      ]
     },
     "execution_count": 21,
     "metadata": {},
     "output_type": "execute_result"
    }
   ],
   "source": [
    "df_train_clusters.groupby(['cluster','fips']).agg(pd.Series.mode)"
   ]
  }
 ],
 "metadata": {
  "kernelspec": {
   "display_name": "myenv",
   "language": "python",
   "name": "python3"
  },
  "language_info": {
   "codemirror_mode": {
    "name": "ipython",
    "version": 3
   },
   "file_extension": ".py",
   "mimetype": "text/x-python",
   "name": "python",
   "nbconvert_exporter": "python",
   "pygments_lexer": "ipython3",
   "version": "3.11.7"
  }
 },
 "nbformat": 4,
 "nbformat_minor": 2
}
