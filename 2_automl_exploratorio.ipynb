{
 "cells": [
  {
   "cell_type": "markdown",
   "metadata": {},
   "source": [
    "# Exploración de performance modelos y feature importances con Pycaret"
   ]
  },
  {
   "cell_type": "code",
   "execution_count": 1,
   "metadata": {},
   "outputs": [],
   "source": [
    "import numpy as np\n",
    "import pandas as pd\n",
    "from sklearn.cluster import KMeans\n",
    "from sklearn.preprocessing import StandardScaler\n",
    "\n",
    "from pycaret.classification import *"
   ]
  },
  {
   "cell_type": "code",
   "execution_count": 2,
   "metadata": {},
   "outputs": [],
   "source": [
    "np.random.seed(666)"
   ]
  },
  {
   "cell_type": "code",
   "execution_count": 3,
   "metadata": {},
   "outputs": [],
   "source": [
    "df_train = pd.read_csv('data/train_timeseries_interpolated.csv')\n",
    "df_val = pd.read_csv('data/val_timeseries_interpolated.csv')\n",
    "df_test = pd.read_csv('data/test_timeseries_interpolated.csv')"
   ]
  },
  {
   "cell_type": "code",
   "execution_count": 4,
   "metadata": {},
   "outputs": [],
   "source": [
    "pd.set_option('display.max_rows', None)"
   ]
  },
  {
   "cell_type": "code",
   "execution_count": 5,
   "metadata": {},
   "outputs": [
    {
     "data": {
      "text/plain": [
       "(5678316, 23)"
      ]
     },
     "execution_count": 5,
     "metadata": {},
     "output_type": "execute_result"
    }
   ],
   "source": [
    "df_train.shape"
   ]
  },
  {
   "cell_type": "code",
   "execution_count": 6,
   "metadata": {},
   "outputs": [
    {
     "data": {
      "text/plain": [
       "(2268840, 23)"
      ]
     },
     "execution_count": 6,
     "metadata": {},
     "output_type": "execute_result"
    }
   ],
   "source": [
    "df_val.shape"
   ]
  },
  {
   "cell_type": "code",
   "execution_count": 7,
   "metadata": {},
   "outputs": [
    {
     "data": {
      "text/plain": [
       "(2271948, 23)"
      ]
     },
     "execution_count": 7,
     "metadata": {},
     "output_type": "execute_result"
    }
   ],
   "source": [
    "df_test.shape"
   ]
  },
  {
   "cell_type": "code",
   "execution_count": 8,
   "metadata": {},
   "outputs": [
    {
     "name": "stdout",
     "output_type": "stream",
     "text": [
      "<class 'pandas.core.frame.DataFrame'>\n",
      "RangeIndex: 5678316 entries, 0 to 5678315\n",
      "Data columns (total 23 columns):\n",
      " #   Column                    Dtype  \n",
      "---  ------                    -----  \n",
      " 0   fips                      int64  \n",
      " 1   date                      object \n",
      " 2   PRECTOT                   float64\n",
      " 3   PS                        float64\n",
      " 4   QV2M                      float64\n",
      " 5   T2M                       float64\n",
      " 6   T2MDEW                    float64\n",
      " 7   T2MWET                    float64\n",
      " 8   T2M_MAX                   float64\n",
      " 9   T2M_MIN                   float64\n",
      " 10  T2M_RANGE                 float64\n",
      " 11  TS                        float64\n",
      " 12  WS10M                     float64\n",
      " 13  WS10M_MAX                 float64\n",
      " 14  WS10M_MIN                 float64\n",
      " 15  WS10M_RANGE               float64\n",
      " 16  WS50M                     float64\n",
      " 17  WS50M_MAX                 float64\n",
      " 18  WS50M_MIN                 float64\n",
      " 19  WS50M_RANGE               float64\n",
      " 20  score                     float64\n",
      " 21  score_interpolated        float64\n",
      " 22  score_final_interpolated  float64\n",
      "dtypes: float64(21), int64(1), object(1)\n",
      "memory usage: 996.4+ MB\n"
     ]
    }
   ],
   "source": [
    "df_train.info()"
   ]
  },
  {
   "cell_type": "code",
   "execution_count": 9,
   "metadata": {},
   "outputs": [],
   "source": [
    "# Eliminar las columnas 'score' y 'score_interpolated'\n",
    "columns_to_drop = ['score', 'score_interpolated']\n",
    "df_train = df_train.drop(columns=columns_to_drop)\n",
    "df_val = df_val.drop(columns=columns_to_drop)\n",
    "df_test = df_test.drop(columns=columns_to_drop)"
   ]
  },
  {
   "cell_type": "code",
   "execution_count": 10,
   "metadata": {},
   "outputs": [],
   "source": [
    "df_train['date'] = pd.to_datetime(df_train['date'])\n",
    "df_val['date'] = pd.to_datetime(df_val['date'])\n",
    "df_test['date'] = pd.to_datetime(df_test['date'])"
   ]
  },
  {
   "cell_type": "code",
   "execution_count": 11,
   "metadata": {},
   "outputs": [],
   "source": [
    "df_combined = pd.concat([df_train, df_val, df_test])\n"
   ]
  },
  {
   "cell_type": "code",
   "execution_count": 12,
   "metadata": {},
   "outputs": [],
   "source": [
    "df_combined = df_combined.reset_index(drop=True)"
   ]
  },
  {
   "cell_type": "code",
   "execution_count": 13,
   "metadata": {},
   "outputs": [
    {
     "data": {
      "text/plain": [
       "(10219104, 21)"
      ]
     },
     "execution_count": 13,
     "metadata": {},
     "output_type": "execute_result"
    }
   ],
   "source": [
    "df_combined.shape"
   ]
  },
  {
   "cell_type": "code",
   "execution_count": 14,
   "metadata": {},
   "outputs": [
    {
     "data": {
      "text/plain": [
       "3108"
      ]
     },
     "execution_count": 14,
     "metadata": {},
     "output_type": "execute_result"
    }
   ],
   "source": [
    "len(df_combined.fips.unique())"
   ]
  },
  {
   "cell_type": "code",
   "execution_count": 15,
   "metadata": {},
   "outputs": [],
   "source": [
    "fips_to_keep = np.random.choice(df_combined['fips'].unique(), size=500, replace=False)\n",
    "\n",
    "df_combined = df_combined[df_combined['fips'].isin(fips_to_keep)]"
   ]
  },
  {
   "cell_type": "code",
   "execution_count": 16,
   "metadata": {},
   "outputs": [
    {
     "data": {
      "text/plain": [
       "(1644000, 21)"
      ]
     },
     "execution_count": 16,
     "metadata": {},
     "output_type": "execute_result"
    }
   ],
   "source": [
    "df_combined.shape"
   ]
  },
  {
   "cell_type": "code",
   "execution_count": 17,
   "metadata": {},
   "outputs": [
    {
     "data": {
      "text/plain": [
       "500"
      ]
     },
     "execution_count": 17,
     "metadata": {},
     "output_type": "execute_result"
    }
   ],
   "source": [
    "len(df_combined.fips.unique())"
   ]
  },
  {
   "cell_type": "code",
   "execution_count": 21,
   "metadata": {},
   "outputs": [
    {
     "data": {
      "text/html": [
       "<style type=\"text/css\">\n",
       "#T_fe589_row9_col1 {\n",
       "  background-color: lightgreen;\n",
       "}\n",
       "</style>\n",
       "<table id=\"T_fe589\">\n",
       "  <thead>\n",
       "    <tr>\n",
       "      <th class=\"blank level0\" >&nbsp;</th>\n",
       "      <th id=\"T_fe589_level0_col0\" class=\"col_heading level0 col0\" >Description</th>\n",
       "      <th id=\"T_fe589_level0_col1\" class=\"col_heading level0 col1\" >Value</th>\n",
       "    </tr>\n",
       "  </thead>\n",
       "  <tbody>\n",
       "    <tr>\n",
       "      <th id=\"T_fe589_level0_row0\" class=\"row_heading level0 row0\" >0</th>\n",
       "      <td id=\"T_fe589_row0_col0\" class=\"data row0 col0\" >Session id</td>\n",
       "      <td id=\"T_fe589_row0_col1\" class=\"data row0 col1\" >464831859</td>\n",
       "    </tr>\n",
       "    <tr>\n",
       "      <th id=\"T_fe589_level0_row1\" class=\"row_heading level0 row1\" >1</th>\n",
       "      <td id=\"T_fe589_row1_col0\" class=\"data row1 col0\" >Target</td>\n",
       "      <td id=\"T_fe589_row1_col1\" class=\"data row1 col1\" >score_final_interpolated</td>\n",
       "    </tr>\n",
       "    <tr>\n",
       "      <th id=\"T_fe589_level0_row2\" class=\"row_heading level0 row2\" >2</th>\n",
       "      <td id=\"T_fe589_row2_col0\" class=\"data row2 col0\" >Target type</td>\n",
       "      <td id=\"T_fe589_row2_col1\" class=\"data row2 col1\" >Multiclass</td>\n",
       "    </tr>\n",
       "    <tr>\n",
       "      <th id=\"T_fe589_level0_row3\" class=\"row_heading level0 row3\" >3</th>\n",
       "      <td id=\"T_fe589_row3_col0\" class=\"data row3 col0\" >Original data shape</td>\n",
       "      <td id=\"T_fe589_row3_col1\" class=\"data row3 col1\" >(1644000, 21)</td>\n",
       "    </tr>\n",
       "    <tr>\n",
       "      <th id=\"T_fe589_level0_row4\" class=\"row_heading level0 row4\" >4</th>\n",
       "      <td id=\"T_fe589_row4_col0\" class=\"data row4 col0\" >Transformed data shape</td>\n",
       "      <td id=\"T_fe589_row4_col1\" class=\"data row4 col1\" >(1644000, 23)</td>\n",
       "    </tr>\n",
       "    <tr>\n",
       "      <th id=\"T_fe589_level0_row5\" class=\"row_heading level0 row5\" >5</th>\n",
       "      <td id=\"T_fe589_row5_col0\" class=\"data row5 col0\" >Transformed train set shape</td>\n",
       "      <td id=\"T_fe589_row5_col1\" class=\"data row5 col1\" >(1150800, 23)</td>\n",
       "    </tr>\n",
       "    <tr>\n",
       "      <th id=\"T_fe589_level0_row6\" class=\"row_heading level0 row6\" >6</th>\n",
       "      <td id=\"T_fe589_row6_col0\" class=\"data row6 col0\" >Transformed test set shape</td>\n",
       "      <td id=\"T_fe589_row6_col1\" class=\"data row6 col1\" >(493200, 23)</td>\n",
       "    </tr>\n",
       "    <tr>\n",
       "      <th id=\"T_fe589_level0_row7\" class=\"row_heading level0 row7\" >7</th>\n",
       "      <td id=\"T_fe589_row7_col0\" class=\"data row7 col0\" >Numeric features</td>\n",
       "      <td id=\"T_fe589_row7_col1\" class=\"data row7 col1\" >19</td>\n",
       "    </tr>\n",
       "    <tr>\n",
       "      <th id=\"T_fe589_level0_row8\" class=\"row_heading level0 row8\" >8</th>\n",
       "      <td id=\"T_fe589_row8_col0\" class=\"data row8 col0\" >Date features</td>\n",
       "      <td id=\"T_fe589_row8_col1\" class=\"data row8 col1\" >1</td>\n",
       "    </tr>\n",
       "    <tr>\n",
       "      <th id=\"T_fe589_level0_row9\" class=\"row_heading level0 row9\" >9</th>\n",
       "      <td id=\"T_fe589_row9_col0\" class=\"data row9 col0\" >Preprocess</td>\n",
       "      <td id=\"T_fe589_row9_col1\" class=\"data row9 col1\" >True</td>\n",
       "    </tr>\n",
       "    <tr>\n",
       "      <th id=\"T_fe589_level0_row10\" class=\"row_heading level0 row10\" >10</th>\n",
       "      <td id=\"T_fe589_row10_col0\" class=\"data row10 col0\" >Imputation type</td>\n",
       "      <td id=\"T_fe589_row10_col1\" class=\"data row10 col1\" >simple</td>\n",
       "    </tr>\n",
       "    <tr>\n",
       "      <th id=\"T_fe589_level0_row11\" class=\"row_heading level0 row11\" >11</th>\n",
       "      <td id=\"T_fe589_row11_col0\" class=\"data row11 col0\" >Numeric imputation</td>\n",
       "      <td id=\"T_fe589_row11_col1\" class=\"data row11 col1\" >mean</td>\n",
       "    </tr>\n",
       "    <tr>\n",
       "      <th id=\"T_fe589_level0_row12\" class=\"row_heading level0 row12\" >12</th>\n",
       "      <td id=\"T_fe589_row12_col0\" class=\"data row12 col0\" >Categorical imputation</td>\n",
       "      <td id=\"T_fe589_row12_col1\" class=\"data row12 col1\" >mode</td>\n",
       "    </tr>\n",
       "    <tr>\n",
       "      <th id=\"T_fe589_level0_row13\" class=\"row_heading level0 row13\" >13</th>\n",
       "      <td id=\"T_fe589_row13_col0\" class=\"data row13 col0\" >Fold Generator</td>\n",
       "      <td id=\"T_fe589_row13_col1\" class=\"data row13 col1\" >TimeSeriesSplit</td>\n",
       "    </tr>\n",
       "    <tr>\n",
       "      <th id=\"T_fe589_level0_row14\" class=\"row_heading level0 row14\" >14</th>\n",
       "      <td id=\"T_fe589_row14_col0\" class=\"data row14 col0\" >Fold Number</td>\n",
       "      <td id=\"T_fe589_row14_col1\" class=\"data row14 col1\" >5</td>\n",
       "    </tr>\n",
       "    <tr>\n",
       "      <th id=\"T_fe589_level0_row15\" class=\"row_heading level0 row15\" >15</th>\n",
       "      <td id=\"T_fe589_row15_col0\" class=\"data row15 col0\" >CPU Jobs</td>\n",
       "      <td id=\"T_fe589_row15_col1\" class=\"data row15 col1\" >-1</td>\n",
       "    </tr>\n",
       "    <tr>\n",
       "      <th id=\"T_fe589_level0_row16\" class=\"row_heading level0 row16\" >16</th>\n",
       "      <td id=\"T_fe589_row16_col0\" class=\"data row16 col0\" >Use GPU</td>\n",
       "      <td id=\"T_fe589_row16_col1\" class=\"data row16 col1\" >False</td>\n",
       "    </tr>\n",
       "    <tr>\n",
       "      <th id=\"T_fe589_level0_row17\" class=\"row_heading level0 row17\" >17</th>\n",
       "      <td id=\"T_fe589_row17_col0\" class=\"data row17 col0\" >Log Experiment</td>\n",
       "      <td id=\"T_fe589_row17_col1\" class=\"data row17 col1\" >False</td>\n",
       "    </tr>\n",
       "    <tr>\n",
       "      <th id=\"T_fe589_level0_row18\" class=\"row_heading level0 row18\" >18</th>\n",
       "      <td id=\"T_fe589_row18_col0\" class=\"data row18 col0\" >Experiment Name</td>\n",
       "      <td id=\"T_fe589_row18_col1\" class=\"data row18 col1\" >clf-default-name</td>\n",
       "    </tr>\n",
       "    <tr>\n",
       "      <th id=\"T_fe589_level0_row19\" class=\"row_heading level0 row19\" >19</th>\n",
       "      <td id=\"T_fe589_row19_col0\" class=\"data row19 col0\" >USI</td>\n",
       "      <td id=\"T_fe589_row19_col1\" class=\"data row19 col1\" >75f2</td>\n",
       "    </tr>\n",
       "  </tbody>\n",
       "</table>\n"
      ],
      "text/plain": [
       "<pandas.io.formats.style.Styler at 0x1d20c365d60>"
      ]
     },
     "metadata": {},
     "output_type": "display_data"
    }
   ],
   "source": [
    "# Configurar PyCaret para modelar 'score_final_interpolated' con series temporales\n",
    "clf = setup(data=df_combined, \n",
    "            target='score_final_interpolated', \n",
    "            fold_strategy='timeseries',  \n",
    "            fold=5,  \n",
    "            data_split_shuffle=False,\n",
    "            fold_shuffle=False,\n",
    "            data_split_stratify=False,  \n",
    "            session_id=464831859) "
   ]
  },
  {
   "cell_type": "code",
   "execution_count": 22,
   "metadata": {},
   "outputs": [
    {
     "data": {
      "text/html": [],
      "text/plain": [
       "<IPython.core.display.HTML object>"
      ]
     },
     "metadata": {},
     "output_type": "display_data"
    },
    {
     "data": {
      "text/html": [
       "<style type=\"text/css\">\n",
       "#T_235c1 th {\n",
       "  text-align: left;\n",
       "}\n",
       "#T_235c1_row0_col0, #T_235c1_row1_col0, #T_235c1_row1_col1, #T_235c1_row1_col2, #T_235c1_row1_col3, #T_235c1_row1_col4, #T_235c1_row1_col5, #T_235c1_row1_col6, #T_235c1_row1_col7, #T_235c1_row2_col0, #T_235c1_row2_col1, #T_235c1_row2_col2, #T_235c1_row2_col3, #T_235c1_row2_col4, #T_235c1_row2_col5, #T_235c1_row2_col6, #T_235c1_row2_col7, #T_235c1_row3_col0, #T_235c1_row3_col1, #T_235c1_row3_col2, #T_235c1_row3_col3, #T_235c1_row3_col4, #T_235c1_row3_col5, #T_235c1_row3_col6, #T_235c1_row3_col7, #T_235c1_row4_col0, #T_235c1_row4_col1, #T_235c1_row4_col2, #T_235c1_row4_col3, #T_235c1_row4_col4, #T_235c1_row4_col5, #T_235c1_row4_col6, #T_235c1_row4_col7, #T_235c1_row5_col0, #T_235c1_row5_col1, #T_235c1_row5_col2, #T_235c1_row5_col3, #T_235c1_row5_col4, #T_235c1_row5_col5, #T_235c1_row5_col6, #T_235c1_row5_col7, #T_235c1_row6_col0, #T_235c1_row6_col1, #T_235c1_row6_col2, #T_235c1_row6_col3, #T_235c1_row6_col4, #T_235c1_row6_col5, #T_235c1_row6_col6, #T_235c1_row6_col7, #T_235c1_row7_col0, #T_235c1_row7_col1, #T_235c1_row7_col2, #T_235c1_row7_col3, #T_235c1_row7_col4, #T_235c1_row7_col5, #T_235c1_row7_col6, #T_235c1_row7_col7, #T_235c1_row8_col0, #T_235c1_row8_col1, #T_235c1_row8_col2, #T_235c1_row8_col3, #T_235c1_row8_col4, #T_235c1_row8_col5, #T_235c1_row8_col6, #T_235c1_row8_col7, #T_235c1_row9_col0, #T_235c1_row9_col1, #T_235c1_row9_col2, #T_235c1_row9_col3, #T_235c1_row9_col4, #T_235c1_row9_col5, #T_235c1_row9_col6, #T_235c1_row9_col7, #T_235c1_row10_col0, #T_235c1_row10_col1, #T_235c1_row10_col2, #T_235c1_row10_col3, #T_235c1_row10_col4, #T_235c1_row10_col5, #T_235c1_row10_col6, #T_235c1_row10_col7, #T_235c1_row11_col0, #T_235c1_row11_col1, #T_235c1_row11_col2, #T_235c1_row11_col3, #T_235c1_row11_col4, #T_235c1_row11_col5, #T_235c1_row11_col6, #T_235c1_row11_col7, #T_235c1_row12_col0, #T_235c1_row12_col1, #T_235c1_row12_col2, #T_235c1_row12_col3, #T_235c1_row12_col4, #T_235c1_row12_col5, #T_235c1_row12_col6, #T_235c1_row12_col7, #T_235c1_row13_col0, #T_235c1_row13_col1, #T_235c1_row13_col2, #T_235c1_row13_col3, #T_235c1_row13_col4, #T_235c1_row13_col5, #T_235c1_row13_col6, #T_235c1_row13_col7 {\n",
       "  text-align: left;\n",
       "}\n",
       "#T_235c1_row0_col1, #T_235c1_row0_col2, #T_235c1_row0_col3, #T_235c1_row0_col4, #T_235c1_row0_col5, #T_235c1_row0_col6, #T_235c1_row0_col7 {\n",
       "  text-align: left;\n",
       "  background-color: yellow;\n",
       "}\n",
       "#T_235c1_row0_col8, #T_235c1_row1_col8, #T_235c1_row2_col8, #T_235c1_row4_col8, #T_235c1_row5_col8, #T_235c1_row6_col8, #T_235c1_row7_col8, #T_235c1_row8_col8, #T_235c1_row9_col8, #T_235c1_row10_col8, #T_235c1_row11_col8, #T_235c1_row12_col8, #T_235c1_row13_col8 {\n",
       "  text-align: left;\n",
       "  background-color: lightgrey;\n",
       "}\n",
       "#T_235c1_row3_col8 {\n",
       "  text-align: left;\n",
       "  background-color: yellow;\n",
       "  background-color: lightgrey;\n",
       "}\n",
       "</style>\n",
       "<table id=\"T_235c1\">\n",
       "  <thead>\n",
       "    <tr>\n",
       "      <th class=\"blank level0\" >&nbsp;</th>\n",
       "      <th id=\"T_235c1_level0_col0\" class=\"col_heading level0 col0\" >Model</th>\n",
       "      <th id=\"T_235c1_level0_col1\" class=\"col_heading level0 col1\" >Accuracy</th>\n",
       "      <th id=\"T_235c1_level0_col2\" class=\"col_heading level0 col2\" >AUC</th>\n",
       "      <th id=\"T_235c1_level0_col3\" class=\"col_heading level0 col3\" >Recall</th>\n",
       "      <th id=\"T_235c1_level0_col4\" class=\"col_heading level0 col4\" >Prec.</th>\n",
       "      <th id=\"T_235c1_level0_col5\" class=\"col_heading level0 col5\" >F1</th>\n",
       "      <th id=\"T_235c1_level0_col6\" class=\"col_heading level0 col6\" >Kappa</th>\n",
       "      <th id=\"T_235c1_level0_col7\" class=\"col_heading level0 col7\" >MCC</th>\n",
       "      <th id=\"T_235c1_level0_col8\" class=\"col_heading level0 col8\" >TT (Sec)</th>\n",
       "    </tr>\n",
       "  </thead>\n",
       "  <tbody>\n",
       "    <tr>\n",
       "      <th id=\"T_235c1_level0_row0\" class=\"row_heading level0 row0\" >et</th>\n",
       "      <td id=\"T_235c1_row0_col0\" class=\"data row0 col0\" >Extra Trees Classifier</td>\n",
       "      <td id=\"T_235c1_row0_col1\" class=\"data row0 col1\" >0.6341</td>\n",
       "      <td id=\"T_235c1_row0_col2\" class=\"data row0 col2\" >0.7282</td>\n",
       "      <td id=\"T_235c1_row0_col3\" class=\"data row0 col3\" >0.6341</td>\n",
       "      <td id=\"T_235c1_row0_col4\" class=\"data row0 col4\" >0.5476</td>\n",
       "      <td id=\"T_235c1_row0_col5\" class=\"data row0 col5\" >0.5623</td>\n",
       "      <td id=\"T_235c1_row0_col6\" class=\"data row0 col6\" >0.1795</td>\n",
       "      <td id=\"T_235c1_row0_col7\" class=\"data row0 col7\" >0.2091</td>\n",
       "      <td id=\"T_235c1_row0_col8\" class=\"data row0 col8\" >17.2540</td>\n",
       "    </tr>\n",
       "    <tr>\n",
       "      <th id=\"T_235c1_level0_row1\" class=\"row_heading level0 row1\" >lda</th>\n",
       "      <td id=\"T_235c1_row1_col0\" class=\"data row1 col0\" >Linear Discriminant Analysis</td>\n",
       "      <td id=\"T_235c1_row1_col1\" class=\"data row1 col1\" >0.6315</td>\n",
       "      <td id=\"T_235c1_row1_col2\" class=\"data row1 col2\" >0.0000</td>\n",
       "      <td id=\"T_235c1_row1_col3\" class=\"data row1 col3\" >0.6315</td>\n",
       "      <td id=\"T_235c1_row1_col4\" class=\"data row1 col4\" >0.4973</td>\n",
       "      <td id=\"T_235c1_row1_col5\" class=\"data row1 col5\" >0.5121</td>\n",
       "      <td id=\"T_235c1_row1_col6\" class=\"data row1 col6\" >0.0748</td>\n",
       "      <td id=\"T_235c1_row1_col7\" class=\"data row1 col7\" >0.1261</td>\n",
       "      <td id=\"T_235c1_row1_col8\" class=\"data row1 col8\" >1.3860</td>\n",
       "    </tr>\n",
       "    <tr>\n",
       "      <th id=\"T_235c1_level0_row2\" class=\"row_heading level0 row2\" >ridge</th>\n",
       "      <td id=\"T_235c1_row2_col0\" class=\"data row2 col0\" >Ridge Classifier</td>\n",
       "      <td id=\"T_235c1_row2_col1\" class=\"data row2 col1\" >0.6290</td>\n",
       "      <td id=\"T_235c1_row2_col2\" class=\"data row2 col2\" >0.0000</td>\n",
       "      <td id=\"T_235c1_row2_col3\" class=\"data row2 col3\" >0.6290</td>\n",
       "      <td id=\"T_235c1_row2_col4\" class=\"data row2 col4\" >0.4615</td>\n",
       "      <td id=\"T_235c1_row2_col5\" class=\"data row2 col5\" >0.4998</td>\n",
       "      <td id=\"T_235c1_row2_col6\" class=\"data row2 col6\" >0.0425</td>\n",
       "      <td id=\"T_235c1_row2_col7\" class=\"data row2 col7\" >0.0895</td>\n",
       "      <td id=\"T_235c1_row2_col8\" class=\"data row2 col8\" >0.8960</td>\n",
       "    </tr>\n",
       "    <tr>\n",
       "      <th id=\"T_235c1_level0_row3\" class=\"row_heading level0 row3\" >dummy</th>\n",
       "      <td id=\"T_235c1_row3_col0\" class=\"data row3 col0\" >Dummy Classifier</td>\n",
       "      <td id=\"T_235c1_row3_col1\" class=\"data row3 col1\" >0.6269</td>\n",
       "      <td id=\"T_235c1_row3_col2\" class=\"data row3 col2\" >0.5000</td>\n",
       "      <td id=\"T_235c1_row3_col3\" class=\"data row3 col3\" >0.6269</td>\n",
       "      <td id=\"T_235c1_row3_col4\" class=\"data row3 col4\" >0.3955</td>\n",
       "      <td id=\"T_235c1_row3_col5\" class=\"data row3 col5\" >0.4843</td>\n",
       "      <td id=\"T_235c1_row3_col6\" class=\"data row3 col6\" >0.0000</td>\n",
       "      <td id=\"T_235c1_row3_col7\" class=\"data row3 col7\" >0.0000</td>\n",
       "      <td id=\"T_235c1_row3_col8\" class=\"data row3 col8\" >0.8080</td>\n",
       "    </tr>\n",
       "    <tr>\n",
       "      <th id=\"T_235c1_level0_row4\" class=\"row_heading level0 row4\" >lr</th>\n",
       "      <td id=\"T_235c1_row4_col0\" class=\"data row4 col0\" >Logistic Regression</td>\n",
       "      <td id=\"T_235c1_row4_col1\" class=\"data row4 col1\" >0.6224</td>\n",
       "      <td id=\"T_235c1_row4_col2\" class=\"data row4 col2\" >0.0000</td>\n",
       "      <td id=\"T_235c1_row4_col3\" class=\"data row4 col3\" >0.6224</td>\n",
       "      <td id=\"T_235c1_row4_col4\" class=\"data row4 col4\" >0.4552</td>\n",
       "      <td id=\"T_235c1_row4_col5\" class=\"data row4 col5\" >0.5049</td>\n",
       "      <td id=\"T_235c1_row4_col6\" class=\"data row4 col6\" >0.0572</td>\n",
       "      <td id=\"T_235c1_row4_col7\" class=\"data row4 col7\" >0.0930</td>\n",
       "      <td id=\"T_235c1_row4_col8\" class=\"data row4 col8\" >40.4280</td>\n",
       "    </tr>\n",
       "    <tr>\n",
       "      <th id=\"T_235c1_level0_row5\" class=\"row_heading level0 row5\" >ada</th>\n",
       "      <td id=\"T_235c1_row5_col0\" class=\"data row5 col0\" >Ada Boost Classifier</td>\n",
       "      <td id=\"T_235c1_row5_col1\" class=\"data row5 col1\" >0.6215</td>\n",
       "      <td id=\"T_235c1_row5_col2\" class=\"data row5 col2\" >0.0000</td>\n",
       "      <td id=\"T_235c1_row5_col3\" class=\"data row5 col3\" >0.6215</td>\n",
       "      <td id=\"T_235c1_row5_col4\" class=\"data row5 col4\" >0.4752</td>\n",
       "      <td id=\"T_235c1_row5_col5\" class=\"data row5 col5\" >0.5058</td>\n",
       "      <td id=\"T_235c1_row5_col6\" class=\"data row5 col6\" >0.0571</td>\n",
       "      <td id=\"T_235c1_row5_col7\" class=\"data row5 col7\" >0.0964</td>\n",
       "      <td id=\"T_235c1_row5_col8\" class=\"data row5 col8\" >18.8300</td>\n",
       "    </tr>\n",
       "    <tr>\n",
       "      <th id=\"T_235c1_level0_row6\" class=\"row_heading level0 row6\" >rf</th>\n",
       "      <td id=\"T_235c1_row6_col0\" class=\"data row6 col0\" >Random Forest Classifier</td>\n",
       "      <td id=\"T_235c1_row6_col1\" class=\"data row6 col1\" >0.6177</td>\n",
       "      <td id=\"T_235c1_row6_col2\" class=\"data row6 col2\" >0.7050</td>\n",
       "      <td id=\"T_235c1_row6_col3\" class=\"data row6 col3\" >0.6177</td>\n",
       "      <td id=\"T_235c1_row6_col4\" class=\"data row6 col4\" >0.5362</td>\n",
       "      <td id=\"T_235c1_row6_col5\" class=\"data row6 col5\" >0.5558</td>\n",
       "      <td id=\"T_235c1_row6_col6\" class=\"data row6 col6\" >0.1685</td>\n",
       "      <td id=\"T_235c1_row6_col7\" class=\"data row6 col7\" >0.1882</td>\n",
       "      <td id=\"T_235c1_row6_col8\" class=\"data row6 col8\" >34.0400</td>\n",
       "    </tr>\n",
       "    <tr>\n",
       "      <th id=\"T_235c1_level0_row7\" class=\"row_heading level0 row7\" >svm</th>\n",
       "      <td id=\"T_235c1_row7_col0\" class=\"data row7 col0\" >SVM - Linear Kernel</td>\n",
       "      <td id=\"T_235c1_row7_col1\" class=\"data row7 col1\" >0.5953</td>\n",
       "      <td id=\"T_235c1_row7_col2\" class=\"data row7 col2\" >0.0000</td>\n",
       "      <td id=\"T_235c1_row7_col3\" class=\"data row7 col3\" >0.5953</td>\n",
       "      <td id=\"T_235c1_row7_col4\" class=\"data row7 col4\" >0.4335</td>\n",
       "      <td id=\"T_235c1_row7_col5\" class=\"data row7 col5\" >0.4895</td>\n",
       "      <td id=\"T_235c1_row7_col6\" class=\"data row7 col6\" >0.0506</td>\n",
       "      <td id=\"T_235c1_row7_col7\" class=\"data row7 col7\" >0.0582</td>\n",
       "      <td id=\"T_235c1_row7_col8\" class=\"data row7 col8\" >89.4320</td>\n",
       "    </tr>\n",
       "    <tr>\n",
       "      <th id=\"T_235c1_level0_row8\" class=\"row_heading level0 row8\" >qda</th>\n",
       "      <td id=\"T_235c1_row8_col0\" class=\"data row8 col0\" >Quadratic Discriminant Analysis</td>\n",
       "      <td id=\"T_235c1_row8_col1\" class=\"data row8 col1\" >0.5814</td>\n",
       "      <td id=\"T_235c1_row8_col2\" class=\"data row8 col2\" >0.0000</td>\n",
       "      <td id=\"T_235c1_row8_col3\" class=\"data row8 col3\" >0.5814</td>\n",
       "      <td id=\"T_235c1_row8_col4\" class=\"data row8 col4\" >0.5087</td>\n",
       "      <td id=\"T_235c1_row8_col5\" class=\"data row8 col5\" >0.5300</td>\n",
       "      <td id=\"T_235c1_row8_col6\" class=\"data row8 col6\" >0.1357</td>\n",
       "      <td id=\"T_235c1_row8_col7\" class=\"data row8 col7\" >0.1467</td>\n",
       "      <td id=\"T_235c1_row8_col8\" class=\"data row8 col8\" >1.2080</td>\n",
       "    </tr>\n",
       "    <tr>\n",
       "      <th id=\"T_235c1_level0_row9\" class=\"row_heading level0 row9\" >gbc</th>\n",
       "      <td id=\"T_235c1_row9_col0\" class=\"data row9 col0\" >Gradient Boosting Classifier</td>\n",
       "      <td id=\"T_235c1_row9_col1\" class=\"data row9 col1\" >0.5790</td>\n",
       "      <td id=\"T_235c1_row9_col2\" class=\"data row9 col2\" >0.0000</td>\n",
       "      <td id=\"T_235c1_row9_col3\" class=\"data row9 col3\" >0.5790</td>\n",
       "      <td id=\"T_235c1_row9_col4\" class=\"data row9 col4\" >0.5142</td>\n",
       "      <td id=\"T_235c1_row9_col5\" class=\"data row9 col5\" >0.5138</td>\n",
       "      <td id=\"T_235c1_row9_col6\" class=\"data row9 col6\" >0.1029</td>\n",
       "      <td id=\"T_235c1_row9_col7\" class=\"data row9 col7\" >0.1237</td>\n",
       "      <td id=\"T_235c1_row9_col8\" class=\"data row9 col8\" >458.3360</td>\n",
       "    </tr>\n",
       "    <tr>\n",
       "      <th id=\"T_235c1_level0_row10\" class=\"row_heading level0 row10\" >lightgbm</th>\n",
       "      <td id=\"T_235c1_row10_col0\" class=\"data row10 col0\" >Light Gradient Boosting Machine</td>\n",
       "      <td id=\"T_235c1_row10_col1\" class=\"data row10 col1\" >0.5737</td>\n",
       "      <td id=\"T_235c1_row10_col2\" class=\"data row10 col2\" >0.6550</td>\n",
       "      <td id=\"T_235c1_row10_col3\" class=\"data row10 col3\" >0.5737</td>\n",
       "      <td id=\"T_235c1_row10_col4\" class=\"data row10 col4\" >0.5022</td>\n",
       "      <td id=\"T_235c1_row10_col5\" class=\"data row10 col5\" >0.5224</td>\n",
       "      <td id=\"T_235c1_row10_col6\" class=\"data row10 col6\" >0.1178</td>\n",
       "      <td id=\"T_235c1_row10_col7\" class=\"data row10 col7\" >0.1293</td>\n",
       "      <td id=\"T_235c1_row10_col8\" class=\"data row10 col8\" >7.5640</td>\n",
       "    </tr>\n",
       "    <tr>\n",
       "      <th id=\"T_235c1_level0_row11\" class=\"row_heading level0 row11\" >nb</th>\n",
       "      <td id=\"T_235c1_row11_col0\" class=\"data row11 col0\" >Naive Bayes</td>\n",
       "      <td id=\"T_235c1_row11_col1\" class=\"data row11 col1\" >0.5495</td>\n",
       "      <td id=\"T_235c1_row11_col2\" class=\"data row11 col2\" >0.6057</td>\n",
       "      <td id=\"T_235c1_row11_col3\" class=\"data row11 col3\" >0.5495</td>\n",
       "      <td id=\"T_235c1_row11_col4\" class=\"data row11 col4\" >0.4954</td>\n",
       "      <td id=\"T_235c1_row11_col5\" class=\"data row11 col5\" >0.5003</td>\n",
       "      <td id=\"T_235c1_row11_col6\" class=\"data row11 col6\" >0.0961</td>\n",
       "      <td id=\"T_235c1_row11_col7\" class=\"data row11 col7\" >0.1051</td>\n",
       "      <td id=\"T_235c1_row11_col8\" class=\"data row11 col8\" >1.2760</td>\n",
       "    </tr>\n",
       "    <tr>\n",
       "      <th id=\"T_235c1_level0_row12\" class=\"row_heading level0 row12\" >knn</th>\n",
       "      <td id=\"T_235c1_row12_col0\" class=\"data row12 col0\" >K Neighbors Classifier</td>\n",
       "      <td id=\"T_235c1_row12_col1\" class=\"data row12 col1\" >0.5446</td>\n",
       "      <td id=\"T_235c1_row12_col2\" class=\"data row12 col2\" >0.5651</td>\n",
       "      <td id=\"T_235c1_row12_col3\" class=\"data row12 col3\" >0.5446</td>\n",
       "      <td id=\"T_235c1_row12_col4\" class=\"data row12 col4\" >0.4751</td>\n",
       "      <td id=\"T_235c1_row12_col5\" class=\"data row12 col5\" >0.4982</td>\n",
       "      <td id=\"T_235c1_row12_col6\" class=\"data row12 col6\" >0.0691</td>\n",
       "      <td id=\"T_235c1_row12_col7\" class=\"data row12 col7\" >0.0765</td>\n",
       "      <td id=\"T_235c1_row12_col8\" class=\"data row12 col8\" >271.1500</td>\n",
       "    </tr>\n",
       "    <tr>\n",
       "      <th id=\"T_235c1_level0_row13\" class=\"row_heading level0 row13\" >dt</th>\n",
       "      <td id=\"T_235c1_row13_col0\" class=\"data row13 col0\" >Decision Tree Classifier</td>\n",
       "      <td id=\"T_235c1_row13_col1\" class=\"data row13 col1\" >0.4597</td>\n",
       "      <td id=\"T_235c1_row13_col2\" class=\"data row13 col2\" >0.5687</td>\n",
       "      <td id=\"T_235c1_row13_col3\" class=\"data row13 col3\" >0.4597</td>\n",
       "      <td id=\"T_235c1_row13_col4\" class=\"data row13 col4\" >0.5050</td>\n",
       "      <td id=\"T_235c1_row13_col5\" class=\"data row13 col5\" >0.4774</td>\n",
       "      <td id=\"T_235c1_row13_col6\" class=\"data row13 col6\" >0.1036</td>\n",
       "      <td id=\"T_235c1_row13_col7\" class=\"data row13 col7\" >0.1052</td>\n",
       "      <td id=\"T_235c1_row13_col8\" class=\"data row13 col8\" >6.0780</td>\n",
       "    </tr>\n",
       "  </tbody>\n",
       "</table>\n"
      ],
      "text/plain": [
       "<pandas.io.formats.style.Styler at 0x1d16d2de8e0>"
      ]
     },
     "metadata": {},
     "output_type": "display_data"
    },
    {
     "data": {
      "text/html": [],
      "text/plain": [
       "<IPython.core.display.HTML object>"
      ]
     },
     "metadata": {},
     "output_type": "display_data"
    }
   ],
   "source": [
    "# Comparar modelos y seleccionar el mejor\n",
    "best_model = compare_models()"
   ]
  },
  {
   "cell_type": "code",
   "execution_count": 29,
   "metadata": {},
   "outputs": [
    {
     "name": "stdout",
     "output_type": "stream",
     "text": [
      "ExtraTreesClassifier(bootstrap=False, ccp_alpha=0.0, class_weight=None,\n",
      "                     criterion='gini', max_depth=None, max_features='sqrt',\n",
      "                     max_leaf_nodes=None, max_samples=None,\n",
      "                     min_impurity_decrease=0.0, min_samples_leaf=1,\n",
      "                     min_samples_split=2, min_weight_fraction_leaf=0.0,\n",
      "                     monotonic_cst=None, n_estimators=100, n_jobs=-1,\n",
      "                     oob_score=False, random_state=464831859, verbose=0,\n",
      "                     warm_start=False)\n"
     ]
    }
   ],
   "source": [
    "print(best_model)"
   ]
  },
  {
   "cell_type": "code",
   "execution_count": 31,
   "metadata": {},
   "outputs": [
    {
     "data": {
      "application/vnd.jupyter.widget-view+json": {
       "model_id": "9102c245dab145538494b7cb988165f5",
       "version_major": 2,
       "version_minor": 0
      },
      "text/plain": [
       "interactive(children=(ToggleButtons(description='Plot Type:', icons=('',), options=(('Pipeline Plot', 'pipelin…"
      ]
     },
     "metadata": {},
     "output_type": "display_data"
    }
   ],
   "source": [
    "evaluate_model(best_model)"
   ]
  }
 ],
 "metadata": {
  "kernelspec": {
   "display_name": "myenv",
   "language": "python",
   "name": "python3"
  },
  "language_info": {
   "codemirror_mode": {
    "name": "ipython",
    "version": 3
   },
   "file_extension": ".py",
   "mimetype": "text/x-python",
   "name": "python",
   "nbconvert_exporter": "python",
   "pygments_lexer": "ipython3",
   "version": "3.9.12"
  }
 },
 "nbformat": 4,
 "nbformat_minor": 2
}
