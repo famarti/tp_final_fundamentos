{
 "cells": [
  {
   "cell_type": "code",
   "execution_count": 2,
   "metadata": {},
   "outputs": [],
   "source": [
    "import pandas as pd\n",
    "import numpy as np"
   ]
  },
  {
   "cell_type": "code",
   "execution_count": 3,
   "metadata": {},
   "outputs": [],
   "source": [
    "df_val = pd.read_csv('data/validation_timeseries.csv')\n",
    "df_test = pd.read_csv('data/test_timeseries.csv')\n"
   ]
  },
  {
   "cell_type": "code",
   "execution_count": 4,
   "metadata": {},
   "outputs": [],
   "source": [
    "def process_dataframe(df, df_name):\n",
    "    # Ordenar el dataframe por 'fips' y 'date' para asegurar la secuencia temporal\n",
    "    df = df.sort_values(by=['fips', 'date'])\n",
    "\n",
    "    # Realizar la interpolación de los valores de 'score' manteniendo el orden cronológico\n",
    "    df['score_interpolated'] = df.groupby('fips')['score'].apply(lambda group: group.interpolate(method='linear')).reset_index(level=0, drop=True)\n",
    "\n",
    "    # Aplicar forward fill para rellenar valores nulos al inicio de la serie\n",
    "    df['score_interpolated'] = df.groupby('fips')['score_interpolated'].ffill()\n",
    "\n",
    "    # Aplicar backward fill para rellenar valores nulos al final de la serie\n",
    "    df['score_interpolated'] = df.groupby('fips')['score_interpolated'].bfill()\n",
    "\n",
    "    # Definir los puntos de corte para las categorías\n",
    "    bins = [-np.inf, 0.5, 1.5, 2.5, 3.5, 4.5, np.inf]\n",
    "    labels = [0.0, 1.0, 2.0, 3.0, 4.0, 5.0]\n",
    "\n",
    "    # Aplicar la categorización a la columna interpolada\n",
    "    df['score_final_interpolated'] = pd.cut(df['score_interpolated'], bins=bins, labels=labels)\n",
    "\n",
    "    # Convertir los valores de 'score_final_interpolated' a float\n",
    "    df['score_final_interpolated'] = df['score_final_interpolated'].astype(float)\n",
    "\n",
    "    # Mostrar las primeras filas para verificar los resultados\n",
    "    print(df[['score_interpolated', 'score_final_interpolated']].head(10))\n",
    "\n",
    "    # Mostrar el conteo de valores únicos en 'score_final_interpolated'\n",
    "    print(df['score_final_interpolated'].value_counts())\n",
    "\n",
    "    # Guardar el DataFrame procesado en un archivo CSV\n",
    "    output_filename = f'data/{df_name}_timeseries_interpolated.csv'\n",
    "    df.to_csv(output_filename, index=False)\n",
    "    print(f'DataFrame guardado como {output_filename}')\n",
    "\n",
    "    return df"
   ]
  },
  {
   "cell_type": "code",
   "execution_count": 5,
   "metadata": {},
   "outputs": [
    {
     "name": "stdout",
     "output_type": "stream",
     "text": [
      "   score_interpolated  score_final_interpolated\n",
      "0                 2.0                       2.0\n",
      "1                 2.0                       2.0\n",
      "2                 2.0                       2.0\n",
      "3                 2.0                       2.0\n",
      "4                 2.0                       2.0\n",
      "5                 2.0                       2.0\n",
      "6                 2.0                       2.0\n",
      "7                 2.0                       2.0\n",
      "8                 2.0                       2.0\n",
      "9                 2.0                       2.0\n",
      "score_final_interpolated\n",
      "0.0    1550895\n",
      "1.0     395271\n",
      "2.0     198997\n",
      "3.0      85757\n",
      "4.0      31618\n",
      "5.0       6302\n",
      "Name: count, dtype: int64\n",
      "DataFrame guardado como data/val_timeseries_interpolated.csv\n"
     ]
    }
   ],
   "source": [
    "df_val = process_dataframe(df_val, 'val')\n"
   ]
  },
  {
   "cell_type": "code",
   "execution_count": 6,
   "metadata": {},
   "outputs": [
    {
     "name": "stdout",
     "output_type": "stream",
     "text": [
      "   score_interpolated  score_final_interpolated\n",
      "0                 0.0                       0.0\n",
      "1                 0.0                       0.0\n",
      "2                 0.0                       0.0\n",
      "3                 0.0                       0.0\n",
      "4                 0.0                       0.0\n",
      "5                 0.0                       0.0\n",
      "6                 0.0                       0.0\n",
      "7                 0.0                       0.0\n",
      "8                 0.0                       0.0\n",
      "9                 0.0                       0.0\n",
      "score_final_interpolated\n",
      "0.0    1725225\n",
      "1.0     297046\n",
      "2.0     153411\n",
      "3.0      66338\n",
      "4.0      24450\n",
      "5.0       5478\n",
      "Name: count, dtype: int64\n",
      "DataFrame guardado como data/test_timeseries_interpolated.csv\n"
     ]
    }
   ],
   "source": [
    "df_test = process_dataframe(df_test, 'test')"
   ]
  }
 ],
 "metadata": {
  "kernelspec": {
   "display_name": "myenv",
   "language": "python",
   "name": "python3"
  },
  "language_info": {
   "codemirror_mode": {
    "name": "ipython",
    "version": 3
   },
   "file_extension": ".py",
   "mimetype": "text/x-python",
   "name": "python",
   "nbconvert_exporter": "python",
   "pygments_lexer": "ipython3",
   "version": "3.9.12"
  }
 },
 "nbformat": 4,
 "nbformat_minor": 2
}
