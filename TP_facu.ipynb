{
 "cells": [
  {
   "cell_type": "code",
   "execution_count": 1,
   "metadata": {},
   "outputs": [],
   "source": [
    "import pandas as pd\n",
    "import sweetviz as sv\n"
   ]
  },
  {
   "cell_type": "code",
   "execution_count": 3,
   "metadata": {},
   "outputs": [],
   "source": [
    "# leemos los arhivos de train, val y test\n",
    "df_train = pd.read_csv('data/train_timeseries.csv')\n",
    "df_val = pd.read_csv('data/validation_timeseries.csv')\n",
    "df_test = pd.read_csv('data/test_timeseries.csv')"
   ]
  },
  {
   "cell_type": "code",
   "execution_count": 5,
   "metadata": {},
   "outputs": [
    {
     "data": {
      "application/vnd.jupyter.widget-view+json": {
       "model_id": "e026463b585646038f054cb628dd1b7e",
       "version_major": 2,
       "version_minor": 0
      },
      "text/plain": [
       "                                             |          | [  0%]   00:00 -> (? left)"
      ]
     },
     "metadata": {},
     "output_type": "display_data"
    },
    {
     "ename": "TypeError",
     "evalue": "DataframeReport.show_html() got an unexpected keyword argument 'show_inline'",
     "output_type": "error",
     "traceback": [
      "\u001b[1;31m---------------------------------------------------------------------------\u001b[0m",
      "\u001b[1;31mTypeError\u001b[0m                                 Traceback (most recent call last)",
      "Cell \u001b[1;32mIn[5], line 5\u001b[0m\n\u001b[0;32m      3\u001b[0m report \u001b[38;5;241m=\u001b[39m sv\u001b[38;5;241m.\u001b[39mcompare([df_val, \u001b[38;5;124m\"\u001b[39m\u001b[38;5;124mValidation\u001b[39m\u001b[38;5;124m\"\u001b[39m], [df_test, \u001b[38;5;124m\"\u001b[39m\u001b[38;5;124mTest\u001b[39m\u001b[38;5;124m\"\u001b[39m])\n\u001b[0;32m      4\u001b[0m \u001b[38;5;66;03m# guardo el reporte\u001b[39;00m\n\u001b[1;32m----> 5\u001b[0m report\u001b[38;5;241m.\u001b[39mshow_html(\u001b[38;5;124m'\u001b[39m\u001b[38;5;124mcompare.html\u001b[39m\u001b[38;5;124m'\u001b[39m, open_browser\u001b[38;5;241m=\u001b[39m\u001b[38;5;28;01mFalse\u001b[39;00m, layout\u001b[38;5;241m=\u001b[39m\u001b[38;5;124m'\u001b[39m\u001b[38;5;124mwidescreen\u001b[39m\u001b[38;5;124m'\u001b[39m, scale\u001b[38;5;241m=\u001b[39m\u001b[38;5;241m0.8\u001b[39m, show_inline\u001b[38;5;241m=\u001b[39m\u001b[38;5;28;01mTrue\u001b[39;00m)\n",
      "\u001b[1;31mTypeError\u001b[0m: DataframeReport.show_html() got an unexpected keyword argument 'show_inline'"
     ]
    }
   ],
   "source": [
    "# comparo validacion y test con sweetviz compare\n",
    "report = sv.compare([df_val, \"Validation\"], [df_test, \"Test\"])\n",
    "# guardo el reporte\n",
    "report.show_html('compare.html', open_browser=False, layout='widescreen', scale=0.8, show_inline=True, relative_to='.')"
   ]
  },
  {
   "cell_type": "code",
   "execution_count": 20,
   "metadata": {},
   "outputs": [],
   "source": [
    "# Ordenamos df_train por el campo fecha (date) de forma descendente\n",
    "df_train = df_train.sort_values('date', ascending=False)\n",
    "\n",
    "# Creo un df_train_copy con los ultimos 4 años de datos\n",
    "df_train_copy = df_train[df_train['date'] >= '2012-01-01']"
   ]
  },
  {
   "cell_type": "code",
   "execution_count": 21,
   "metadata": {},
   "outputs": [
    {
     "data": {
      "text/plain": [
       "('2000-01-01', '2016-12-31')"
      ]
     },
     "execution_count": 21,
     "metadata": {},
     "output_type": "execute_result"
    }
   ],
   "source": [
    "min(df_train.date),max(df_train.date)"
   ]
  }
 ],
 "metadata": {
  "kernelspec": {
   "display_name": "base",
   "language": "python",
   "name": "python3"
  },
  "language_info": {
   "codemirror_mode": {
    "name": "ipython",
    "version": 3
   },
   "file_extension": ".py",
   "mimetype": "text/x-python",
   "name": "python",
   "nbconvert_exporter": "python",
   "pygments_lexer": "ipython3",
   "version": "3.9.12"
  }
 },
 "nbformat": 4,
 "nbformat_minor": 2
}
