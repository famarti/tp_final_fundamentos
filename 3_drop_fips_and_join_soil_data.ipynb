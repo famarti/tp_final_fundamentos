{
 "cells": [
  {
   "cell_type": "markdown",
   "metadata": {},
   "source": [
    "# Reducción del dataset estratégica y Join con datos del suelo de cada sitio de interés"
   ]
  },
  {
   "cell_type": "code",
   "execution_count": 1,
   "metadata": {},
   "outputs": [],
   "source": [
    "import numpy as np\n",
    "import pandas as pd"
   ]
  },
  {
   "cell_type": "code",
   "execution_count": 2,
   "metadata": {},
   "outputs": [],
   "source": [
    "np.random.seed(666)"
   ]
  },
  {
   "cell_type": "code",
   "execution_count": 3,
   "metadata": {},
   "outputs": [],
   "source": [
    "df_train = pd.read_csv('data/train_timeseries_interpolated.csv')\n",
    "df_val = pd.read_csv('data/val_timeseries_interpolated.csv')\n",
    "df_test = pd.read_csv('data/test_timeseries_interpolated.csv')"
   ]
  },
  {
   "cell_type": "code",
   "execution_count": 4,
   "metadata": {},
   "outputs": [],
   "source": [
    "# Cargamos soil data\n",
    "df_soil = pd.read_csv('data/soil_data.csv')"
   ]
  },
  {
   "cell_type": "code",
   "execution_count": 5,
   "metadata": {},
   "outputs": [
    {
     "name": "stdout",
     "output_type": "stream",
     "text": [
      "<class 'pandas.core.frame.DataFrame'>\n",
      "RangeIndex: 3109 entries, 0 to 3108\n",
      "Data columns (total 32 columns):\n",
      " #   Column         Non-Null Count  Dtype  \n",
      "---  ------         --------------  -----  \n",
      " 0   fips           3109 non-null   int64  \n",
      " 1   lat            3109 non-null   float64\n",
      " 2   lon            3109 non-null   float64\n",
      " 3   elevation      3109 non-null   int64  \n",
      " 4   slope1         3109 non-null   float64\n",
      " 5   slope2         3109 non-null   float64\n",
      " 6   slope3         3109 non-null   float64\n",
      " 7   slope4         3109 non-null   float64\n",
      " 8   slope5         3109 non-null   float64\n",
      " 9   slope6         3109 non-null   float64\n",
      " 10  slope7         3109 non-null   float64\n",
      " 11  slope8         3109 non-null   float64\n",
      " 12  aspectN        3109 non-null   float64\n",
      " 13  aspectE        3109 non-null   float64\n",
      " 14  aspectS        3109 non-null   float64\n",
      " 15  aspectW        3109 non-null   float64\n",
      " 16  aspectUnknown  3109 non-null   float64\n",
      " 17  WAT_LAND       3109 non-null   float64\n",
      " 18  NVG_LAND       3109 non-null   float64\n",
      " 19  URB_LAND       3109 non-null   float64\n",
      " 20  GRS_LAND       3109 non-null   float64\n",
      " 21  FOR_LAND       3109 non-null   float64\n",
      " 22  CULTRF_LAND    3109 non-null   float64\n",
      " 23  CULTIR_LAND    3109 non-null   float64\n",
      " 24  CULT_LAND      3109 non-null   float64\n",
      " 25  SQ1            3109 non-null   int64  \n",
      " 26  SQ2            3109 non-null   int64  \n",
      " 27  SQ3            3109 non-null   int64  \n",
      " 28  SQ4            3109 non-null   int64  \n",
      " 29  SQ5            3109 non-null   int64  \n",
      " 30  SQ6            3109 non-null   int64  \n",
      " 31  SQ7            3109 non-null   int64  \n",
      "dtypes: float64(23), int64(9)\n",
      "memory usage: 777.4 KB\n"
     ]
    }
   ],
   "source": [
    "df_soil.info()"
   ]
  },
  {
   "cell_type": "code",
   "execution_count": 6,
   "metadata": {},
   "outputs": [],
   "source": [
    "pd.set_option('display.max_rows', None)"
   ]
  },
  {
   "cell_type": "code",
   "execution_count": 7,
   "metadata": {},
   "outputs": [],
   "source": [
    "# Eliminar las columnas 'score' y 'score_interpolated'\n",
    "columns_to_drop = ['score', 'score_interpolated']\n",
    "df_train = df_train.drop(columns=columns_to_drop)\n",
    "df_val = df_val.drop(columns=columns_to_drop)\n",
    "df_test = df_test.drop(columns=columns_to_drop)"
   ]
  },
  {
   "cell_type": "code",
   "execution_count": 8,
   "metadata": {},
   "outputs": [],
   "source": [
    "df_train['date'] = pd.to_datetime(df_train['date'])\n",
    "df_val['date'] = pd.to_datetime(df_val['date'])\n",
    "df_test['date'] = pd.to_datetime(df_test['date'])"
   ]
  },
  {
   "cell_type": "code",
   "execution_count": 9,
   "metadata": {},
   "outputs": [],
   "source": [
    "df_combined = pd.concat([df_train, df_val, df_test])"
   ]
  },
  {
   "cell_type": "code",
   "execution_count": 10,
   "metadata": {},
   "outputs": [],
   "source": [
    "df_combined = df_combined.reset_index(drop=True)"
   ]
  },
  {
   "cell_type": "code",
   "execution_count": 11,
   "metadata": {},
   "outputs": [],
   "source": [
    "# Nos quedamos aleatoriamente con 500 fips únicos\n",
    "fips_to_keep = np.random.choice(df_combined['fips'].unique(), size=500, replace=False)\n",
    "\n",
    "# Filtrar el DataFrame para que solo contenga los 500 fips seleccionados\n",
    "df_combined_500_fips = df_combined[df_combined['fips'].isin(fips_to_keep)]"
   ]
  },
  {
   "cell_type": "code",
   "execution_count": 12,
   "metadata": {},
   "outputs": [],
   "source": [
    "# Filtrar los fips restantes (aquellos que no están en fips_to_keep)\n",
    "fips_to_exclude = df_combined['fips'].unique()[~np.isin(df_combined['fips'].unique(), fips_to_keep)]\n",
    "\n",
    "# Guardar el DataFrame con los 2500 fips restantes\n",
    "df_remaining_fips = df_combined[df_combined['fips'].isin(fips_to_exclude)]\n",
    "\n"
   ]
  },
  {
   "cell_type": "code",
   "execution_count": 13,
   "metadata": {},
   "outputs": [
    {
     "data": {
      "text/plain": [
       "(10219104, 21)"
      ]
     },
     "execution_count": 13,
     "metadata": {},
     "output_type": "execute_result"
    }
   ],
   "source": [
    "df_combined.shape"
   ]
  },
  {
   "cell_type": "code",
   "execution_count": 14,
   "metadata": {},
   "outputs": [
    {
     "data": {
      "text/plain": [
       "3108"
      ]
     },
     "execution_count": 14,
     "metadata": {},
     "output_type": "execute_result"
    }
   ],
   "source": [
    "len(df_combined.fips.unique())"
   ]
  },
  {
   "cell_type": "code",
   "execution_count": 15,
   "metadata": {},
   "outputs": [
    {
     "data": {
      "text/plain": [
       "(1644000, 21)"
      ]
     },
     "execution_count": 15,
     "metadata": {},
     "output_type": "execute_result"
    }
   ],
   "source": [
    "df_combined_500_fips.shape"
   ]
  },
  {
   "cell_type": "code",
   "execution_count": 16,
   "metadata": {},
   "outputs": [
    {
     "data": {
      "text/plain": [
       "500"
      ]
     },
     "execution_count": 16,
     "metadata": {},
     "output_type": "execute_result"
    }
   ],
   "source": [
    "len(df_combined_500_fips.fips.unique())"
   ]
  },
  {
   "cell_type": "code",
   "execution_count": 17,
   "metadata": {},
   "outputs": [
    {
     "data": {
      "text/plain": [
       "(8575104, 21)"
      ]
     },
     "execution_count": 17,
     "metadata": {},
     "output_type": "execute_result"
    }
   ],
   "source": [
    "df_remaining_fips.shape"
   ]
  },
  {
   "cell_type": "code",
   "execution_count": 18,
   "metadata": {},
   "outputs": [
    {
     "data": {
      "text/plain": [
       "2608"
      ]
     },
     "execution_count": 18,
     "metadata": {},
     "output_type": "execute_result"
    }
   ],
   "source": [
    "len(df_remaining_fips.fips.unique())"
   ]
  },
  {
   "cell_type": "code",
   "execution_count": 19,
   "metadata": {},
   "outputs": [],
   "source": [
    "# Joinear a df_combined_500_fips el df_soil por fips (para los 500 fips seleccionados)\n",
    "df_combined_500_fips = df_combined_500_fips.merge(df_soil, on='fips', how='left')"
   ]
  },
  {
   "cell_type": "code",
   "execution_count": 20,
   "metadata": {},
   "outputs": [],
   "source": [
    "# Joinear a df_remaining_fips el df_soil por fips (para los 2500 fips restantes)\n",
    "df_remaining_fips = df_remaining_fips.merge(df_soil, on='fips', how='left')"
   ]
  },
  {
   "cell_type": "code",
   "execution_count": 21,
   "metadata": {},
   "outputs": [
    {
     "data": {
      "text/plain": [
       "(1644000, 52)"
      ]
     },
     "execution_count": 21,
     "metadata": {},
     "output_type": "execute_result"
    }
   ],
   "source": [
    "df_combined_500_fips.shape"
   ]
  },
  {
   "cell_type": "code",
   "execution_count": 22,
   "metadata": {},
   "outputs": [
    {
     "data": {
      "text/plain": [
       "(8575104, 52)"
      ]
     },
     "execution_count": 22,
     "metadata": {},
     "output_type": "execute_result"
    }
   ],
   "source": [
    "df_remaining_fips.shape"
   ]
  },
  {
   "cell_type": "code",
   "execution_count": 18,
   "metadata": {},
   "outputs": [],
   "source": [
    "df_combined_500_fips.to_parquet('data/combined_timeseries_interpolated.parquet', index=False)"
   ]
  },
  {
   "cell_type": "code",
   "execution_count": 23,
   "metadata": {},
   "outputs": [],
   "source": [
    "df_remaining_fips.to_parquet('data/remaining_timeseries_interpolated_2500_fips.parquet', index=False)"
   ]
  }
 ],
 "metadata": {
  "kernelspec": {
   "display_name": "myenv",
   "language": "python",
   "name": "python3"
  },
  "language_info": {
   "codemirror_mode": {
    "name": "ipython",
    "version": 3
   },
   "file_extension": ".py",
   "mimetype": "text/x-python",
   "name": "python",
   "nbconvert_exporter": "python",
   "pygments_lexer": "ipython3",
   "version": "3.9.12"
  }
 },
 "nbformat": 4,
 "nbformat_minor": 2
}
