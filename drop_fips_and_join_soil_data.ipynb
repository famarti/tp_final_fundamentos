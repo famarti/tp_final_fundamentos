{
 "cells": [
  {
   "cell_type": "code",
   "execution_count": 1,
   "metadata": {},
   "outputs": [],
   "source": [
    "import numpy as np\n",
    "import pandas as pd"
   ]
  },
  {
   "cell_type": "code",
   "execution_count": 2,
   "metadata": {},
   "outputs": [],
   "source": [
    "# Fijar la semilla para reproducibilidad\n",
    "np.random.seed(666)"
   ]
  },
  {
   "cell_type": "code",
   "execution_count": 3,
   "metadata": {},
   "outputs": [],
   "source": [
    "# leemos los arhivos de train, val y test\n",
    "df_train = pd.read_csv('data/train_timeseries_interpolated.csv')\n",
    "df_val = pd.read_csv('data/val_timeseries_interpolated.csv')\n",
    "df_test = pd.read_csv('data/test_timeseries_interpolated.csv')"
   ]
  },
  {
   "cell_type": "code",
   "execution_count": 4,
   "metadata": {},
   "outputs": [],
   "source": [
    "# Cargamos soil data\n",
    "df_soil = pd.read_csv('data/soil_data.csv')"
   ]
  },
  {
   "cell_type": "code",
   "execution_count": 5,
   "metadata": {},
   "outputs": [
    {
     "name": "stdout",
     "output_type": "stream",
     "text": [
      "<class 'pandas.core.frame.DataFrame'>\n",
      "RangeIndex: 3109 entries, 0 to 3108\n",
      "Data columns (total 32 columns):\n",
      " #   Column         Non-Null Count  Dtype  \n",
      "---  ------         --------------  -----  \n",
      " 0   fips           3109 non-null   int64  \n",
      " 1   lat            3109 non-null   float64\n",
      " 2   lon            3109 non-null   float64\n",
      " 3   elevation      3109 non-null   int64  \n",
      " 4   slope1         3109 non-null   float64\n",
      " 5   slope2         3109 non-null   float64\n",
      " 6   slope3         3109 non-null   float64\n",
      " 7   slope4         3109 non-null   float64\n",
      " 8   slope5         3109 non-null   float64\n",
      " 9   slope6         3109 non-null   float64\n",
      " 10  slope7         3109 non-null   float64\n",
      " 11  slope8         3109 non-null   float64\n",
      " 12  aspectN        3109 non-null   float64\n",
      " 13  aspectE        3109 non-null   float64\n",
      " 14  aspectS        3109 non-null   float64\n",
      " 15  aspectW        3109 non-null   float64\n",
      " 16  aspectUnknown  3109 non-null   float64\n",
      " 17  WAT_LAND       3109 non-null   float64\n",
      " 18  NVG_LAND       3109 non-null   float64\n",
      " 19  URB_LAND       3109 non-null   float64\n",
      " 20  GRS_LAND       3109 non-null   float64\n",
      " 21  FOR_LAND       3109 non-null   float64\n",
      " 22  CULTRF_LAND    3109 non-null   float64\n",
      " 23  CULTIR_LAND    3109 non-null   float64\n",
      " 24  CULT_LAND      3109 non-null   float64\n",
      " 25  SQ1            3109 non-null   int64  \n",
      " 26  SQ2            3109 non-null   int64  \n",
      " 27  SQ3            3109 non-null   int64  \n",
      " 28  SQ4            3109 non-null   int64  \n",
      " 29  SQ5            3109 non-null   int64  \n",
      " 30  SQ6            3109 non-null   int64  \n",
      " 31  SQ7            3109 non-null   int64  \n",
      "dtypes: float64(23), int64(9)\n",
      "memory usage: 777.4 KB\n"
     ]
    }
   ],
   "source": [
    "df_soil.info()"
   ]
  },
  {
   "cell_type": "code",
   "execution_count": 6,
   "metadata": {},
   "outputs": [],
   "source": [
    "# opcion para que pandas muestre todo en un print\n",
    "pd.set_option('display.max_rows', None)"
   ]
  },
  {
   "cell_type": "code",
   "execution_count": 7,
   "metadata": {},
   "outputs": [],
   "source": [
    "# Eliminar las columnas 'score' y 'score_interpolated'\n",
    "columns_to_drop = ['score', 'score_interpolated']\n",
    "df_train = df_train.drop(columns=columns_to_drop)\n",
    "df_val = df_val.drop(columns=columns_to_drop)\n",
    "df_test = df_test.drop(columns=columns_to_drop)"
   ]
  },
  {
   "cell_type": "code",
   "execution_count": 8,
   "metadata": {},
   "outputs": [],
   "source": [
    "df_train['date'] = pd.to_datetime(df_train['date'])\n",
    "df_val['date'] = pd.to_datetime(df_val['date'])\n",
    "df_test['date'] = pd.to_datetime(df_test['date'])"
   ]
  },
  {
   "cell_type": "code",
   "execution_count": 9,
   "metadata": {},
   "outputs": [],
   "source": [
    "# Concatenar los datasets para utilizar PyCaret (opcional)\n",
    "df_combined = pd.concat([df_train, df_val, df_test])"
   ]
  },
  {
   "cell_type": "code",
   "execution_count": 10,
   "metadata": {},
   "outputs": [],
   "source": [
    "# Restablecer el índice a un RangeIndex para evitar duplicados\n",
    "df_combined = df_combined.reset_index(drop=True)"
   ]
  },
  {
   "cell_type": "code",
   "execution_count": 11,
   "metadata": {},
   "outputs": [],
   "source": [
    "# Seleccionar aleatoriamente 1000 fips únicos\n",
    "fips_to_keep = np.random.choice(df_combined['fips'].unique(), size=500, replace=False)\n",
    "\n",
    "# Filtrar el DataFrame para que solo contenga los fips seleccionados\n",
    "df_combined = df_combined[df_combined['fips'].isin(fips_to_keep)]"
   ]
  },
  {
   "cell_type": "code",
   "execution_count": 12,
   "metadata": {},
   "outputs": [
    {
     "data": {
      "text/plain": [
       "(1644000, 21)"
      ]
     },
     "execution_count": 12,
     "metadata": {},
     "output_type": "execute_result"
    }
   ],
   "source": [
    "df_combined.shape"
   ]
  },
  {
   "cell_type": "code",
   "execution_count": 13,
   "metadata": {},
   "outputs": [
    {
     "data": {
      "text/plain": [
       "500"
      ]
     },
     "execution_count": 13,
     "metadata": {},
     "output_type": "execute_result"
    }
   ],
   "source": [
    "len(df_combined.fips.unique())"
   ]
  },
  {
   "cell_type": "code",
   "execution_count": 14,
   "metadata": {},
   "outputs": [],
   "source": [
    "# joineamos a df_combined el df_soil por fips\n",
    "df_combined = df_combined.merge(df_soil, on='fips', how='left')"
   ]
  },
  {
   "cell_type": "code",
   "execution_count": 15,
   "metadata": {},
   "outputs": [
    {
     "data": {
      "text/plain": [
       "(1644000, 52)"
      ]
     },
     "execution_count": 15,
     "metadata": {},
     "output_type": "execute_result"
    }
   ],
   "source": [
    "df_combined.shape"
   ]
  },
  {
   "cell_type": "code",
   "execution_count": 16,
   "metadata": {},
   "outputs": [
    {
     "name": "stdout",
     "output_type": "stream",
     "text": [
      "<class 'pandas.core.frame.DataFrame'>\n",
      "RangeIndex: 1644000 entries, 0 to 1643999\n",
      "Data columns (total 52 columns):\n",
      " #   Column                    Non-Null Count    Dtype         \n",
      "---  ------                    --------------    -----         \n",
      " 0   fips                      1644000 non-null  int64         \n",
      " 1   date                      1644000 non-null  datetime64[ns]\n",
      " 2   PRECTOT                   1644000 non-null  float64       \n",
      " 3   PS                        1644000 non-null  float64       \n",
      " 4   QV2M                      1644000 non-null  float64       \n",
      " 5   T2M                       1644000 non-null  float64       \n",
      " 6   T2MDEW                    1644000 non-null  float64       \n",
      " 7   T2MWET                    1644000 non-null  float64       \n",
      " 8   T2M_MAX                   1644000 non-null  float64       \n",
      " 9   T2M_MIN                   1644000 non-null  float64       \n",
      " 10  T2M_RANGE                 1644000 non-null  float64       \n",
      " 11  TS                        1644000 non-null  float64       \n",
      " 12  WS10M                     1644000 non-null  float64       \n",
      " 13  WS10M_MAX                 1644000 non-null  float64       \n",
      " 14  WS10M_MIN                 1644000 non-null  float64       \n",
      " 15  WS10M_RANGE               1644000 non-null  float64       \n",
      " 16  WS50M                     1644000 non-null  float64       \n",
      " 17  WS50M_MAX                 1644000 non-null  float64       \n",
      " 18  WS50M_MIN                 1644000 non-null  float64       \n",
      " 19  WS50M_RANGE               1644000 non-null  float64       \n",
      " 20  score_final_interpolated  1644000 non-null  float64       \n",
      " 21  lat                       1644000 non-null  float64       \n",
      " 22  lon                       1644000 non-null  float64       \n",
      " 23  elevation                 1644000 non-null  int64         \n",
      " 24  slope1                    1644000 non-null  float64       \n",
      " 25  slope2                    1644000 non-null  float64       \n",
      " 26  slope3                    1644000 non-null  float64       \n",
      " 27  slope4                    1644000 non-null  float64       \n",
      " 28  slope5                    1644000 non-null  float64       \n",
      " 29  slope6                    1644000 non-null  float64       \n",
      " 30  slope7                    1644000 non-null  float64       \n",
      " 31  slope8                    1644000 non-null  float64       \n",
      " 32  aspectN                   1644000 non-null  float64       \n",
      " 33  aspectE                   1644000 non-null  float64       \n",
      " 34  aspectS                   1644000 non-null  float64       \n",
      " 35  aspectW                   1644000 non-null  float64       \n",
      " 36  aspectUnknown             1644000 non-null  float64       \n",
      " 37  WAT_LAND                  1644000 non-null  float64       \n",
      " 38  NVG_LAND                  1644000 non-null  float64       \n",
      " 39  URB_LAND                  1644000 non-null  float64       \n",
      " 40  GRS_LAND                  1644000 non-null  float64       \n",
      " 41  FOR_LAND                  1644000 non-null  float64       \n",
      " 42  CULTRF_LAND               1644000 non-null  float64       \n",
      " 43  CULTIR_LAND               1644000 non-null  float64       \n",
      " 44  CULT_LAND                 1644000 non-null  float64       \n",
      " 45  SQ1                       1644000 non-null  int64         \n",
      " 46  SQ2                       1644000 non-null  int64         \n",
      " 47  SQ3                       1644000 non-null  int64         \n",
      " 48  SQ4                       1644000 non-null  int64         \n",
      " 49  SQ5                       1644000 non-null  int64         \n",
      " 50  SQ6                       1644000 non-null  int64         \n",
      " 51  SQ7                       1644000 non-null  int64         \n",
      "dtypes: datetime64[ns](1), float64(42), int64(9)\n",
      "memory usage: 652.2 MB\n"
     ]
    }
   ],
   "source": [
    "df_combined.info()"
   ]
  },
  {
   "cell_type": "code",
   "execution_count": 18,
   "metadata": {},
   "outputs": [],
   "source": [
    "# guardamos en carpeta data el resultado para laburar a futuro\n",
    "df_combined.to_parquet('data/combined_timeseries_interpolated.parquet', index=False)"
   ]
  }
 ],
 "metadata": {
  "kernelspec": {
   "display_name": "myenv",
   "language": "python",
   "name": "python3"
  },
  "language_info": {
   "codemirror_mode": {
    "name": "ipython",
    "version": 3
   },
   "file_extension": ".py",
   "mimetype": "text/x-python",
   "name": "python",
   "nbconvert_exporter": "python",
   "pygments_lexer": "ipython3",
   "version": "3.9.12"
  }
 },
 "nbformat": 4,
 "nbformat_minor": 2
}
